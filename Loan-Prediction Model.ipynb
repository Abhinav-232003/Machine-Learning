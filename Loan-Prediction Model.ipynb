{
 "cells": [
  {
   "cell_type": "code",
   "execution_count": 1,
   "metadata": {
    "_cell_guid": "b1076dfc-b9ad-4769-8c92-a6c4dae69d19",
    "_uuid": "8f2839f25d086af736a60e9eeb907d3b93b6e0e5",
    "execution": {
     "iopub.execute_input": "2022-04-27T07:42:26.584563Z",
     "iopub.status.busy": "2022-04-27T07:42:26.584198Z",
     "iopub.status.idle": "2022-04-27T07:42:26.600737Z",
     "shell.execute_reply": "2022-04-27T07:42:26.599407Z",
     "shell.execute_reply.started": "2022-04-27T07:42:26.584528Z"
    }
   },
   "outputs": [],
   "source": [
    "import numpy as np\n",
    "import pandas as pd"
   ]
  },
  {
   "cell_type": "code",
   "execution_count": 2,
   "metadata": {
    "execution": {
     "iopub.execute_input": "2022-04-27T07:42:26.735292Z",
     "iopub.status.busy": "2022-04-27T07:42:26.734977Z",
     "iopub.status.idle": "2022-04-27T07:42:27.175637Z",
     "shell.execute_reply": "2022-04-27T07:42:27.174343Z",
     "shell.execute_reply.started": "2022-04-27T07:42:26.735257Z"
    }
   },
   "outputs": [],
   "source": [
    "df = pd.read_csv(\"C:/Users/acer/Downloads/Training Data.csv\")"
   ]
  },
  {
   "cell_type": "code",
   "execution_count": 3,
   "metadata": {
    "execution": {
     "iopub.execute_input": "2022-04-27T07:42:27.177985Z",
     "iopub.status.busy": "2022-04-27T07:42:27.177648Z",
     "iopub.status.idle": "2022-04-27T07:42:27.193683Z",
     "shell.execute_reply": "2022-04-27T07:42:27.19253Z",
     "shell.execute_reply.started": "2022-04-27T07:42:27.177922Z"
    }
   },
   "outputs": [
    {
     "data": {
      "text/html": [
       "<div>\n",
       "<style scoped>\n",
       "    .dataframe tbody tr th:only-of-type {\n",
       "        vertical-align: middle;\n",
       "    }\n",
       "\n",
       "    .dataframe tbody tr th {\n",
       "        vertical-align: top;\n",
       "    }\n",
       "\n",
       "    .dataframe thead th {\n",
       "        text-align: right;\n",
       "    }\n",
       "</style>\n",
       "<table border=\"1\" class=\"dataframe\">\n",
       "  <thead>\n",
       "    <tr style=\"text-align: right;\">\n",
       "      <th></th>\n",
       "      <th>Id</th>\n",
       "      <th>Income</th>\n",
       "      <th>Age</th>\n",
       "      <th>Experience</th>\n",
       "      <th>Married/Single</th>\n",
       "      <th>House_Ownership</th>\n",
       "      <th>Car_Ownership</th>\n",
       "      <th>Profession</th>\n",
       "      <th>CITY</th>\n",
       "      <th>STATE</th>\n",
       "      <th>CURRENT_JOB_YRS</th>\n",
       "      <th>CURRENT_HOUSE_YRS</th>\n",
       "      <th>Risk_Flag</th>\n",
       "    </tr>\n",
       "  </thead>\n",
       "  <tbody>\n",
       "    <tr>\n",
       "      <th>0</th>\n",
       "      <td>1</td>\n",
       "      <td>1303834</td>\n",
       "      <td>23</td>\n",
       "      <td>3</td>\n",
       "      <td>single</td>\n",
       "      <td>rented</td>\n",
       "      <td>no</td>\n",
       "      <td>Mechanical_engineer</td>\n",
       "      <td>Rewa</td>\n",
       "      <td>Madhya_Pradesh</td>\n",
       "      <td>3</td>\n",
       "      <td>13</td>\n",
       "      <td>0</td>\n",
       "    </tr>\n",
       "    <tr>\n",
       "      <th>1</th>\n",
       "      <td>2</td>\n",
       "      <td>7574516</td>\n",
       "      <td>40</td>\n",
       "      <td>10</td>\n",
       "      <td>single</td>\n",
       "      <td>rented</td>\n",
       "      <td>no</td>\n",
       "      <td>Software_Developer</td>\n",
       "      <td>Parbhani</td>\n",
       "      <td>Maharashtra</td>\n",
       "      <td>9</td>\n",
       "      <td>13</td>\n",
       "      <td>0</td>\n",
       "    </tr>\n",
       "  </tbody>\n",
       "</table>\n",
       "</div>"
      ],
      "text/plain": [
       "   Id   Income  Age  Experience Married/Single House_Ownership Car_Ownership  \\\n",
       "0   1  1303834   23           3         single          rented            no   \n",
       "1   2  7574516   40          10         single          rented            no   \n",
       "\n",
       "            Profession      CITY           STATE  CURRENT_JOB_YRS  \\\n",
       "0  Mechanical_engineer      Rewa  Madhya_Pradesh                3   \n",
       "1   Software_Developer  Parbhani     Maharashtra                9   \n",
       "\n",
       "   CURRENT_HOUSE_YRS  Risk_Flag  \n",
       "0                 13          0  \n",
       "1                 13          0  "
      ]
     },
     "execution_count": 3,
     "metadata": {},
     "output_type": "execute_result"
    }
   ],
   "source": [
    "df.head(2)"
   ]
  },
  {
   "cell_type": "code",
   "execution_count": 4,
   "metadata": {
    "execution": {
     "iopub.execute_input": "2022-04-27T07:42:27.195253Z",
     "iopub.status.busy": "2022-04-27T07:42:27.194852Z",
     "iopub.status.idle": "2022-04-27T07:42:27.209861Z",
     "shell.execute_reply": "2022-04-27T07:42:27.209059Z",
     "shell.execute_reply.started": "2022-04-27T07:42:27.195213Z"
    }
   },
   "outputs": [
    {
     "data": {
      "text/plain": [
       "(252000, 13)"
      ]
     },
     "execution_count": 4,
     "metadata": {},
     "output_type": "execute_result"
    }
   ],
   "source": [
    "df.shape"
   ]
  },
  {
   "cell_type": "code",
   "execution_count": 5,
   "metadata": {
    "execution": {
     "iopub.execute_input": "2022-04-27T07:42:27.211832Z",
     "iopub.status.busy": "2022-04-27T07:42:27.211479Z",
     "iopub.status.idle": "2022-04-27T07:42:27.305121Z",
     "shell.execute_reply": "2022-04-27T07:42:27.304205Z",
     "shell.execute_reply.started": "2022-04-27T07:42:27.211801Z"
    }
   },
   "outputs": [
    {
     "data": {
      "text/html": [
       "<div>\n",
       "<style scoped>\n",
       "    .dataframe tbody tr th:only-of-type {\n",
       "        vertical-align: middle;\n",
       "    }\n",
       "\n",
       "    .dataframe tbody tr th {\n",
       "        vertical-align: top;\n",
       "    }\n",
       "\n",
       "    .dataframe thead th {\n",
       "        text-align: right;\n",
       "    }\n",
       "</style>\n",
       "<table border=\"1\" class=\"dataframe\">\n",
       "  <thead>\n",
       "    <tr style=\"text-align: right;\">\n",
       "      <th></th>\n",
       "      <th>Id</th>\n",
       "      <th>Income</th>\n",
       "      <th>Age</th>\n",
       "      <th>Experience</th>\n",
       "      <th>CURRENT_JOB_YRS</th>\n",
       "      <th>CURRENT_HOUSE_YRS</th>\n",
       "      <th>Risk_Flag</th>\n",
       "    </tr>\n",
       "  </thead>\n",
       "  <tbody>\n",
       "    <tr>\n",
       "      <th>count</th>\n",
       "      <td>252000.000000</td>\n",
       "      <td>2.520000e+05</td>\n",
       "      <td>252000.000000</td>\n",
       "      <td>252000.000000</td>\n",
       "      <td>252000.000000</td>\n",
       "      <td>252000.000000</td>\n",
       "      <td>252000.000000</td>\n",
       "    </tr>\n",
       "    <tr>\n",
       "      <th>mean</th>\n",
       "      <td>126000.500000</td>\n",
       "      <td>4.997117e+06</td>\n",
       "      <td>49.954071</td>\n",
       "      <td>10.084437</td>\n",
       "      <td>6.333877</td>\n",
       "      <td>11.997794</td>\n",
       "      <td>0.123000</td>\n",
       "    </tr>\n",
       "    <tr>\n",
       "      <th>std</th>\n",
       "      <td>72746.278255</td>\n",
       "      <td>2.878311e+06</td>\n",
       "      <td>17.063855</td>\n",
       "      <td>6.002590</td>\n",
       "      <td>3.647053</td>\n",
       "      <td>1.399037</td>\n",
       "      <td>0.328438</td>\n",
       "    </tr>\n",
       "    <tr>\n",
       "      <th>min</th>\n",
       "      <td>1.000000</td>\n",
       "      <td>1.031000e+04</td>\n",
       "      <td>21.000000</td>\n",
       "      <td>0.000000</td>\n",
       "      <td>0.000000</td>\n",
       "      <td>10.000000</td>\n",
       "      <td>0.000000</td>\n",
       "    </tr>\n",
       "    <tr>\n",
       "      <th>25%</th>\n",
       "      <td>63000.750000</td>\n",
       "      <td>2.503015e+06</td>\n",
       "      <td>35.000000</td>\n",
       "      <td>5.000000</td>\n",
       "      <td>3.000000</td>\n",
       "      <td>11.000000</td>\n",
       "      <td>0.000000</td>\n",
       "    </tr>\n",
       "    <tr>\n",
       "      <th>50%</th>\n",
       "      <td>126000.500000</td>\n",
       "      <td>5.000694e+06</td>\n",
       "      <td>50.000000</td>\n",
       "      <td>10.000000</td>\n",
       "      <td>6.000000</td>\n",
       "      <td>12.000000</td>\n",
       "      <td>0.000000</td>\n",
       "    </tr>\n",
       "    <tr>\n",
       "      <th>75%</th>\n",
       "      <td>189000.250000</td>\n",
       "      <td>7.477502e+06</td>\n",
       "      <td>65.000000</td>\n",
       "      <td>15.000000</td>\n",
       "      <td>9.000000</td>\n",
       "      <td>13.000000</td>\n",
       "      <td>0.000000</td>\n",
       "    </tr>\n",
       "    <tr>\n",
       "      <th>max</th>\n",
       "      <td>252000.000000</td>\n",
       "      <td>9.999938e+06</td>\n",
       "      <td>79.000000</td>\n",
       "      <td>20.000000</td>\n",
       "      <td>14.000000</td>\n",
       "      <td>14.000000</td>\n",
       "      <td>1.000000</td>\n",
       "    </tr>\n",
       "  </tbody>\n",
       "</table>\n",
       "</div>"
      ],
      "text/plain": [
       "                  Id        Income            Age     Experience  \\\n",
       "count  252000.000000  2.520000e+05  252000.000000  252000.000000   \n",
       "mean   126000.500000  4.997117e+06      49.954071      10.084437   \n",
       "std     72746.278255  2.878311e+06      17.063855       6.002590   \n",
       "min         1.000000  1.031000e+04      21.000000       0.000000   \n",
       "25%     63000.750000  2.503015e+06      35.000000       5.000000   \n",
       "50%    126000.500000  5.000694e+06      50.000000      10.000000   \n",
       "75%    189000.250000  7.477502e+06      65.000000      15.000000   \n",
       "max    252000.000000  9.999938e+06      79.000000      20.000000   \n",
       "\n",
       "       CURRENT_JOB_YRS  CURRENT_HOUSE_YRS      Risk_Flag  \n",
       "count    252000.000000      252000.000000  252000.000000  \n",
       "mean          6.333877          11.997794       0.123000  \n",
       "std           3.647053           1.399037       0.328438  \n",
       "min           0.000000          10.000000       0.000000  \n",
       "25%           3.000000          11.000000       0.000000  \n",
       "50%           6.000000          12.000000       0.000000  \n",
       "75%           9.000000          13.000000       0.000000  \n",
       "max          14.000000          14.000000       1.000000  "
      ]
     },
     "execution_count": 5,
     "metadata": {},
     "output_type": "execute_result"
    }
   ],
   "source": [
    "df.describe()"
   ]
  },
  {
   "cell_type": "code",
   "execution_count": 6,
   "metadata": {
    "execution": {
     "iopub.execute_input": "2022-04-27T07:42:27.30693Z",
     "iopub.status.busy": "2022-04-27T07:42:27.306629Z",
     "iopub.status.idle": "2022-04-27T07:42:27.481948Z",
     "shell.execute_reply": "2022-04-27T07:42:27.481103Z",
     "shell.execute_reply.started": "2022-04-27T07:42:27.306897Z"
    }
   },
   "outputs": [
    {
     "name": "stdout",
     "output_type": "stream",
     "text": [
      "<class 'pandas.core.frame.DataFrame'>\n",
      "RangeIndex: 252000 entries, 0 to 251999\n",
      "Data columns (total 13 columns):\n",
      " #   Column             Non-Null Count   Dtype \n",
      "---  ------             --------------   ----- \n",
      " 0   Id                 252000 non-null  int64 \n",
      " 1   Income             252000 non-null  int64 \n",
      " 2   Age                252000 non-null  int64 \n",
      " 3   Experience         252000 non-null  int64 \n",
      " 4   Married/Single     252000 non-null  object\n",
      " 5   House_Ownership    252000 non-null  object\n",
      " 6   Car_Ownership      252000 non-null  object\n",
      " 7   Profession         252000 non-null  object\n",
      " 8   CITY               252000 non-null  object\n",
      " 9   STATE              252000 non-null  object\n",
      " 10  CURRENT_JOB_YRS    252000 non-null  int64 \n",
      " 11  CURRENT_HOUSE_YRS  252000 non-null  int64 \n",
      " 12  Risk_Flag          252000 non-null  int64 \n",
      "dtypes: int64(7), object(6)\n",
      "memory usage: 25.0+ MB\n"
     ]
    }
   ],
   "source": [
    "df.info()"
   ]
  },
  {
   "cell_type": "code",
   "execution_count": 7,
   "metadata": {
    "execution": {
     "iopub.execute_input": "2022-04-27T07:42:27.483694Z",
     "iopub.status.busy": "2022-04-27T07:42:27.483407Z",
     "iopub.status.idle": "2022-04-27T07:42:27.655006Z",
     "shell.execute_reply": "2022-04-27T07:42:27.653902Z",
     "shell.execute_reply.started": "2022-04-27T07:42:27.483661Z"
    }
   },
   "outputs": [
    {
     "data": {
      "text/plain": [
       "Id                   0\n",
       "Income               0\n",
       "Age                  0\n",
       "Experience           0\n",
       "Married/Single       0\n",
       "House_Ownership      0\n",
       "Car_Ownership        0\n",
       "Profession           0\n",
       "CITY                 0\n",
       "STATE                0\n",
       "CURRENT_JOB_YRS      0\n",
       "CURRENT_HOUSE_YRS    0\n",
       "Risk_Flag            0\n",
       "dtype: int64"
      ]
     },
     "execution_count": 7,
     "metadata": {},
     "output_type": "execute_result"
    }
   ],
   "source": [
    "df.isnull().sum()"
   ]
  },
  {
   "cell_type": "code",
   "execution_count": 8,
   "metadata": {
    "execution": {
     "iopub.execute_input": "2022-04-27T07:42:27.657882Z",
     "iopub.status.busy": "2022-04-27T07:42:27.657184Z",
     "iopub.status.idle": "2022-04-27T07:42:27.674222Z",
     "shell.execute_reply": "2022-04-27T07:42:27.673147Z",
     "shell.execute_reply.started": "2022-04-27T07:42:27.657835Z"
    }
   },
   "outputs": [],
   "source": [
    "df.drop(columns=('CITY'),inplace=True)"
   ]
  },
  {
   "cell_type": "code",
   "execution_count": 9,
   "metadata": {
    "execution": {
     "iopub.execute_input": "2022-04-27T07:42:27.676895Z",
     "iopub.status.busy": "2022-04-27T07:42:27.676077Z",
     "iopub.status.idle": "2022-04-27T07:42:27.699095Z",
     "shell.execute_reply": "2022-04-27T07:42:27.698291Z",
     "shell.execute_reply.started": "2022-04-27T07:42:27.67685Z"
    }
   },
   "outputs": [],
   "source": [
    "df.drop(columns=('STATE'),inplace=True)"
   ]
  },
  {
   "cell_type": "code",
   "execution_count": 10,
   "metadata": {
    "execution": {
     "iopub.execute_input": "2022-04-27T07:42:27.701711Z",
     "iopub.status.busy": "2022-04-27T07:42:27.700829Z",
     "iopub.status.idle": "2022-04-27T07:42:27.748016Z",
     "shell.execute_reply": "2022-04-27T07:42:27.747332Z",
     "shell.execute_reply.started": "2022-04-27T07:42:27.701661Z"
    }
   },
   "outputs": [
    {
     "data": {
      "text/plain": [
       "single     226272\n",
       "married     25728\n",
       "Name: Married/Single, dtype: int64"
      ]
     },
     "execution_count": 10,
     "metadata": {},
     "output_type": "execute_result"
    }
   ],
   "source": [
    "df['Married/Single'].value_counts()"
   ]
  },
  {
   "cell_type": "code",
   "execution_count": 11,
   "metadata": {
    "execution": {
     "iopub.execute_input": "2022-04-27T07:42:27.749878Z",
     "iopub.status.busy": "2022-04-27T07:42:27.74948Z",
     "iopub.status.idle": "2022-04-27T07:42:27.913408Z",
     "shell.execute_reply": "2022-04-27T07:42:27.912593Z",
     "shell.execute_reply.started": "2022-04-27T07:42:27.749827Z"
    }
   },
   "outputs": [],
   "source": [
    "df['Married/Single'].replace({'single':0 , 'married':1},inplace=True)"
   ]
  },
  {
   "cell_type": "code",
   "execution_count": 12,
   "metadata": {
    "execution": {
     "iopub.execute_input": "2022-04-27T07:42:27.915859Z",
     "iopub.status.busy": "2022-04-27T07:42:27.91535Z",
     "iopub.status.idle": "2022-04-27T07:42:27.962539Z",
     "shell.execute_reply": "2022-04-27T07:42:27.961774Z",
     "shell.execute_reply.started": "2022-04-27T07:42:27.915814Z"
    }
   },
   "outputs": [
    {
     "data": {
      "text/plain": [
       "rented          231898\n",
       "owned            12918\n",
       "norent_noown      7184\n",
       "Name: House_Ownership, dtype: int64"
      ]
     },
     "execution_count": 12,
     "metadata": {},
     "output_type": "execute_result"
    }
   ],
   "source": [
    "df['House_Ownership'].value_counts()"
   ]
  },
  {
   "cell_type": "code",
   "execution_count": 13,
   "metadata": {
    "execution": {
     "iopub.execute_input": "2022-04-27T07:42:27.964176Z",
     "iopub.status.busy": "2022-04-27T07:42:27.963805Z",
     "iopub.status.idle": "2022-04-27T07:42:28.142341Z",
     "shell.execute_reply": "2022-04-27T07:42:28.141271Z",
     "shell.execute_reply.started": "2022-04-27T07:42:27.964141Z"
    }
   },
   "outputs": [],
   "source": [
    "df['House_Ownership'].replace({'rented':0 , 'owned':1 , 'norent_noown':2},inplace=True)"
   ]
  },
  {
   "cell_type": "code",
   "execution_count": 14,
   "metadata": {
    "execution": {
     "iopub.execute_input": "2022-04-27T07:42:28.144687Z",
     "iopub.status.busy": "2022-04-27T07:42:28.144383Z",
     "iopub.status.idle": "2022-04-27T07:42:28.151115Z",
     "shell.execute_reply": "2022-04-27T07:42:28.150079Z",
     "shell.execute_reply.started": "2022-04-27T07:42:28.144652Z"
    }
   },
   "outputs": [],
   "source": [
    "from sklearn.preprocessing import OneHotEncoder"
   ]
  },
  {
   "cell_type": "code",
   "execution_count": 15,
   "metadata": {
    "execution": {
     "iopub.execute_input": "2022-04-27T07:42:28.15246Z",
     "iopub.status.busy": "2022-04-27T07:42:28.152225Z",
     "iopub.status.idle": "2022-04-27T07:42:28.210084Z",
     "shell.execute_reply": "2022-04-27T07:42:28.209115Z",
     "shell.execute_reply.started": "2022-04-27T07:42:28.15243Z"
    }
   },
   "outputs": [
    {
     "data": {
      "text/plain": [
       "Physician                     5957\n",
       "Statistician                  5806\n",
       "Web_designer                  5397\n",
       "Psychologist                  5390\n",
       "Computer_hardware_engineer    5372\n",
       "Drafter                       5359\n",
       "Magistrate                    5357\n",
       "Fashion_Designer              5304\n",
       "Air_traffic_controller        5281\n",
       "Comedian                      5259\n",
       "Industrial_Engineer           5250\n",
       "Mechanical_engineer           5217\n",
       "Chemical_engineer             5205\n",
       "Technical_writer              5195\n",
       "Hotel_Manager                 5178\n",
       "Financial_Analyst             5167\n",
       "Graphic_Designer              5166\n",
       "Flight_attendant              5128\n",
       "Biomedical_Engineer           5127\n",
       "Secretary                     5061\n",
       "Software_Developer            5053\n",
       "Petroleum_Engineer            5041\n",
       "Police_officer                5035\n",
       "Computer_operator             4990\n",
       "Politician                    4944\n",
       "Microbiologist                4881\n",
       "Technician                    4864\n",
       "Artist                        4861\n",
       "Lawyer                        4818\n",
       "Consultant                    4808\n",
       "Dentist                       4782\n",
       "Scientist                     4781\n",
       "Surgeon                       4772\n",
       "Aviator                       4758\n",
       "Technology_specialist         4737\n",
       "Design_Engineer               4729\n",
       "Surveyor                      4714\n",
       "Geologist                     4672\n",
       "Analyst                       4668\n",
       "Army_officer                  4661\n",
       "Architect                     4657\n",
       "Chef                          4635\n",
       "Librarian                     4628\n",
       "Civil_engineer                4616\n",
       "Designer                      4598\n",
       "Economist                     4573\n",
       "Firefighter                   4507\n",
       "Chartered_Accountant          4493\n",
       "Civil_servant                 4413\n",
       "Official                      4087\n",
       "Engineer                      4048\n",
       "Name: Profession, dtype: int64"
      ]
     },
     "execution_count": 15,
     "metadata": {},
     "output_type": "execute_result"
    }
   ],
   "source": [
    "df['Profession'].value_counts()"
   ]
  },
  {
   "cell_type": "code",
   "execution_count": 16,
   "metadata": {
    "execution": {
     "iopub.execute_input": "2022-04-27T07:42:28.212515Z",
     "iopub.status.busy": "2022-04-27T07:42:28.211514Z",
     "iopub.status.idle": "2022-04-27T07:42:28.36613Z",
     "shell.execute_reply": "2022-04-27T07:42:28.365124Z",
     "shell.execute_reply.started": "2022-04-27T07:42:28.212465Z"
    }
   },
   "outputs": [
    {
     "data": {
      "text/html": [
       "<div>\n",
       "<style scoped>\n",
       "    .dataframe tbody tr th:only-of-type {\n",
       "        vertical-align: middle;\n",
       "    }\n",
       "\n",
       "    .dataframe tbody tr th {\n",
       "        vertical-align: top;\n",
       "    }\n",
       "\n",
       "    .dataframe thead th {\n",
       "        text-align: right;\n",
       "    }\n",
       "</style>\n",
       "<table border=\"1\" class=\"dataframe\">\n",
       "  <thead>\n",
       "    <tr style=\"text-align: right;\">\n",
       "      <th></th>\n",
       "      <th>Id</th>\n",
       "      <th>Income</th>\n",
       "      <th>Age</th>\n",
       "      <th>Experience</th>\n",
       "      <th>Married/Single</th>\n",
       "      <th>House_Ownership</th>\n",
       "      <th>Car_Ownership</th>\n",
       "      <th>CURRENT_JOB_YRS</th>\n",
       "      <th>CURRENT_HOUSE_YRS</th>\n",
       "      <th>Risk_Flag</th>\n",
       "      <th>...</th>\n",
       "      <th>Profession_Scientist</th>\n",
       "      <th>Profession_Secretary</th>\n",
       "      <th>Profession_Software_Developer</th>\n",
       "      <th>Profession_Statistician</th>\n",
       "      <th>Profession_Surgeon</th>\n",
       "      <th>Profession_Surveyor</th>\n",
       "      <th>Profession_Technical_writer</th>\n",
       "      <th>Profession_Technician</th>\n",
       "      <th>Profession_Technology_specialist</th>\n",
       "      <th>Profession_Web_designer</th>\n",
       "    </tr>\n",
       "  </thead>\n",
       "  <tbody>\n",
       "    <tr>\n",
       "      <th>0</th>\n",
       "      <td>1</td>\n",
       "      <td>1303834</td>\n",
       "      <td>23</td>\n",
       "      <td>3</td>\n",
       "      <td>0</td>\n",
       "      <td>0</td>\n",
       "      <td>no</td>\n",
       "      <td>3</td>\n",
       "      <td>13</td>\n",
       "      <td>0</td>\n",
       "      <td>...</td>\n",
       "      <td>0</td>\n",
       "      <td>0</td>\n",
       "      <td>0</td>\n",
       "      <td>0</td>\n",
       "      <td>0</td>\n",
       "      <td>0</td>\n",
       "      <td>0</td>\n",
       "      <td>0</td>\n",
       "      <td>0</td>\n",
       "      <td>0</td>\n",
       "    </tr>\n",
       "    <tr>\n",
       "      <th>1</th>\n",
       "      <td>2</td>\n",
       "      <td>7574516</td>\n",
       "      <td>40</td>\n",
       "      <td>10</td>\n",
       "      <td>0</td>\n",
       "      <td>0</td>\n",
       "      <td>no</td>\n",
       "      <td>9</td>\n",
       "      <td>13</td>\n",
       "      <td>0</td>\n",
       "      <td>...</td>\n",
       "      <td>0</td>\n",
       "      <td>0</td>\n",
       "      <td>1</td>\n",
       "      <td>0</td>\n",
       "      <td>0</td>\n",
       "      <td>0</td>\n",
       "      <td>0</td>\n",
       "      <td>0</td>\n",
       "      <td>0</td>\n",
       "      <td>0</td>\n",
       "    </tr>\n",
       "  </tbody>\n",
       "</table>\n",
       "<p>2 rows × 60 columns</p>\n",
       "</div>"
      ],
      "text/plain": [
       "   Id   Income  Age  Experience  Married/Single  House_Ownership  \\\n",
       "0   1  1303834   23           3               0                0   \n",
       "1   2  7574516   40          10               0                0   \n",
       "\n",
       "  Car_Ownership  CURRENT_JOB_YRS  CURRENT_HOUSE_YRS  Risk_Flag  ...  \\\n",
       "0            no                3                 13          0  ...   \n",
       "1            no                9                 13          0  ...   \n",
       "\n",
       "   Profession_Scientist  Profession_Secretary  Profession_Software_Developer  \\\n",
       "0                     0                     0                              0   \n",
       "1                     0                     0                              1   \n",
       "\n",
       "   Profession_Statistician  Profession_Surgeon  Profession_Surveyor  \\\n",
       "0                        0                   0                    0   \n",
       "1                        0                   0                    0   \n",
       "\n",
       "   Profession_Technical_writer  Profession_Technician  \\\n",
       "0                            0                      0   \n",
       "1                            0                      0   \n",
       "\n",
       "   Profession_Technology_specialist  Profession_Web_designer  \n",
       "0                                 0                        0  \n",
       "1                                 0                        0  \n",
       "\n",
       "[2 rows x 60 columns]"
      ]
     },
     "execution_count": 16,
     "metadata": {},
     "output_type": "execute_result"
    }
   ],
   "source": [
    "df = pd.get_dummies(df,columns = ['Profession'],drop_first=True)\n",
    "df.head(2)"
   ]
  },
  {
   "cell_type": "code",
   "execution_count": 17,
   "metadata": {
    "execution": {
     "iopub.execute_input": "2022-04-27T07:42:28.368037Z",
     "iopub.status.busy": "2022-04-27T07:42:28.367633Z",
     "iopub.status.idle": "2022-04-27T07:42:28.414121Z",
     "shell.execute_reply": "2022-04-27T07:42:28.413343Z",
     "shell.execute_reply.started": "2022-04-27T07:42:28.367993Z"
    }
   },
   "outputs": [
    {
     "data": {
      "text/plain": [
       "no     176000\n",
       "yes     76000\n",
       "Name: Car_Ownership, dtype: int64"
      ]
     },
     "execution_count": 17,
     "metadata": {},
     "output_type": "execute_result"
    }
   ],
   "source": [
    "df['Car_Ownership'].value_counts()"
   ]
  },
  {
   "cell_type": "code",
   "execution_count": 18,
   "metadata": {
    "execution": {
     "iopub.execute_input": "2022-04-27T07:42:28.416627Z",
     "iopub.status.busy": "2022-04-27T07:42:28.41597Z",
     "iopub.status.idle": "2022-04-27T07:42:28.572883Z",
     "shell.execute_reply": "2022-04-27T07:42:28.572079Z",
     "shell.execute_reply.started": "2022-04-27T07:42:28.416583Z"
    }
   },
   "outputs": [],
   "source": [
    "df['Car_Ownership'].replace({'no':0 , 'yes':1},inplace=True)"
   ]
  },
  {
   "cell_type": "code",
   "execution_count": 22,
   "metadata": {
    "execution": {
     "iopub.execute_input": "2022-04-27T08:16:20.750402Z",
     "iopub.status.busy": "2022-04-27T08:16:20.750097Z",
     "iopub.status.idle": "2022-04-27T08:16:20.756541Z",
     "shell.execute_reply": "2022-04-27T08:16:20.755657Z",
     "shell.execute_reply.started": "2022-04-27T08:16:20.750368Z"
    }
   },
   "outputs": [],
   "source": [
    "from sklearn.model_selection import train_test_split\n",
    "from sklearn.ensemble import AdaBoostClassifier,GradientBoostingClassifier\n",
    "from sklearn.metrics import confusion_matrix,accuracy_score,f1_score,roc_auc_score\n",
    "from xgboost import XGBClassifier\n",
    "from catboost import CatBoostClassifier\n",
    "import imblearn"
   ]
  },
  {
   "cell_type": "code",
   "execution_count": 23,
   "metadata": {
    "execution": {
     "iopub.execute_input": "2022-04-27T07:42:28.584032Z",
     "iopub.status.busy": "2022-04-27T07:42:28.583659Z",
     "iopub.status.idle": "2022-04-27T07:42:28.632018Z",
     "shell.execute_reply": "2022-04-27T07:42:28.630805Z",
     "shell.execute_reply.started": "2022-04-27T07:42:28.583982Z"
    }
   },
   "outputs": [],
   "source": [
    "X = df.drop(columns=\"Risk_Flag\")\n",
    "Y = df['Risk_Flag']"
   ]
  },
  {
   "cell_type": "code",
   "execution_count": 24,
   "metadata": {
    "execution": {
     "iopub.execute_input": "2022-04-27T07:42:28.634211Z",
     "iopub.status.busy": "2022-04-27T07:42:28.633836Z",
     "iopub.status.idle": "2022-04-27T07:42:28.643778Z",
     "shell.execute_reply": "2022-04-27T07:42:28.642838Z",
     "shell.execute_reply.started": "2022-04-27T07:42:28.634162Z"
    }
   },
   "outputs": [
    {
     "data": {
      "text/plain": [
       "0    221004\n",
       "1     30996\n",
       "Name: Risk_Flag, dtype: int64"
      ]
     },
     "execution_count": 24,
     "metadata": {},
     "output_type": "execute_result"
    }
   ],
   "source": [
    "df['Risk_Flag'].value_counts()"
   ]
  },
  {
   "cell_type": "code",
   "execution_count": 25,
   "metadata": {
    "execution": {
     "iopub.execute_input": "2022-04-27T07:42:28.64588Z",
     "iopub.status.busy": "2022-04-27T07:42:28.645378Z",
     "iopub.status.idle": "2022-04-27T07:42:28.660752Z",
     "shell.execute_reply": "2022-04-27T07:42:28.659656Z",
     "shell.execute_reply.started": "2022-04-27T07:42:28.645819Z"
    }
   },
   "outputs": [],
   "source": [
    "from collections import Counter\n",
    "from imblearn.over_sampling import RandomOverSampler\n",
    "from imblearn.over_sampling import SMOTE"
   ]
  },
  {
   "cell_type": "code",
   "execution_count": 26,
   "metadata": {
    "execution": {
     "iopub.execute_input": "2022-04-27T07:46:50.701794Z",
     "iopub.status.busy": "2022-04-27T07:46:50.701498Z",
     "iopub.status.idle": "2022-04-27T07:47:12.342343Z",
     "shell.execute_reply": "2022-04-27T07:47:12.34137Z",
     "shell.execute_reply.started": "2022-04-27T07:46:50.70176Z"
    }
   },
   "outputs": [],
   "source": [
    "smote = SMOTE()\n",
    "x_smote , y_smote = smote.fit_resample(X,Y)"
   ]
  },
  {
   "cell_type": "code",
   "execution_count": 27,
   "metadata": {
    "execution": {
     "iopub.execute_input": "2022-04-27T07:47:35.512994Z",
     "iopub.status.busy": "2022-04-27T07:47:35.512704Z",
     "iopub.status.idle": "2022-04-27T07:47:35.808076Z",
     "shell.execute_reply": "2022-04-27T07:47:35.807045Z",
     "shell.execute_reply.started": "2022-04-27T07:47:35.512965Z"
    }
   },
   "outputs": [],
   "source": [
    "x_train,x_test,y_train,y_test = train_test_split(x_smote,y_smote,test_size=0.30,random_state=123)"
   ]
  },
  {
   "cell_type": "code",
   "execution_count": 28,
   "metadata": {
    "execution": {
     "iopub.execute_input": "2022-04-27T07:48:02.321841Z",
     "iopub.status.busy": "2022-04-27T07:48:02.320736Z",
     "iopub.status.idle": "2022-04-27T07:48:02.327908Z",
     "shell.execute_reply": "2022-04-27T07:48:02.327254Z",
     "shell.execute_reply.started": "2022-04-27T07:48:02.321792Z"
    }
   },
   "outputs": [
    {
     "data": {
      "text/plain": [
       "(309405, 59)"
      ]
     },
     "execution_count": 28,
     "metadata": {},
     "output_type": "execute_result"
    }
   ],
   "source": [
    "x_train.shape"
   ]
  },
  {
   "cell_type": "code",
   "execution_count": 29,
   "metadata": {
    "execution": {
     "iopub.execute_input": "2022-04-27T07:48:17.0843Z",
     "iopub.status.busy": "2022-04-27T07:48:17.0838Z",
     "iopub.status.idle": "2022-04-27T07:48:17.089852Z",
     "shell.execute_reply": "2022-04-27T07:48:17.089243Z",
     "shell.execute_reply.started": "2022-04-27T07:48:17.084261Z"
    }
   },
   "outputs": [
    {
     "data": {
      "text/plain": [
       "(132603, 59)"
      ]
     },
     "execution_count": 29,
     "metadata": {},
     "output_type": "execute_result"
    }
   ],
   "source": [
    "x_test.shape"
   ]
  },
  {
   "cell_type": "code",
   "execution_count": 30,
   "metadata": {
    "execution": {
     "iopub.execute_input": "2022-04-27T07:47:37.926378Z",
     "iopub.status.busy": "2022-04-27T07:47:37.92576Z",
     "iopub.status.idle": "2022-04-27T07:47:37.933102Z",
     "shell.execute_reply": "2022-04-27T07:47:37.932231Z",
     "shell.execute_reply.started": "2022-04-27T07:47:37.926334Z"
    }
   },
   "outputs": [
    {
     "data": {
      "text/plain": [
       "(309405,)"
      ]
     },
     "execution_count": 30,
     "metadata": {},
     "output_type": "execute_result"
    }
   ],
   "source": [
    "y_train.shape"
   ]
  },
  {
   "cell_type": "code",
   "execution_count": 31,
   "metadata": {
    "execution": {
     "iopub.execute_input": "2022-04-27T07:47:46.408793Z",
     "iopub.status.busy": "2022-04-27T07:47:46.408145Z",
     "iopub.status.idle": "2022-04-27T07:47:46.415285Z",
     "shell.execute_reply": "2022-04-27T07:47:46.41435Z",
     "shell.execute_reply.started": "2022-04-27T07:47:46.408741Z"
    }
   },
   "outputs": [
    {
     "data": {
      "text/plain": [
       "(132603,)"
      ]
     },
     "execution_count": 31,
     "metadata": {},
     "output_type": "execute_result"
    }
   ],
   "source": [
    "y_test.shape"
   ]
  },
  {
   "cell_type": "code",
   "execution_count": 32,
   "metadata": {
    "execution": {
     "iopub.execute_input": "2022-04-27T07:50:16.216865Z",
     "iopub.status.busy": "2022-04-27T07:50:16.215874Z",
     "iopub.status.idle": "2022-04-27T07:50:24.156285Z",
     "shell.execute_reply": "2022-04-27T07:50:24.15538Z",
     "shell.execute_reply.started": "2022-04-27T07:50:16.216807Z"
    }
   },
   "outputs": [
    {
     "data": {
      "text/plain": [
       "AdaBoostClassifier()"
      ]
     },
     "execution_count": 32,
     "metadata": {},
     "output_type": "execute_result"
    }
   ],
   "source": [
    "adbst = AdaBoostClassifier()\n",
    "adbst.fit(x_test,y_test)"
   ]
  },
  {
   "cell_type": "code",
   "execution_count": 33,
   "metadata": {
    "execution": {
     "iopub.execute_input": "2022-04-27T07:50:53.143151Z",
     "iopub.status.busy": "2022-04-27T07:50:53.142624Z",
     "iopub.status.idle": "2022-04-27T07:50:54.624761Z",
     "shell.execute_reply": "2022-04-27T07:50:54.623819Z",
     "shell.execute_reply.started": "2022-04-27T07:50:53.143118Z"
    }
   },
   "outputs": [],
   "source": [
    "y_pred = adbst.predict(x_test)"
   ]
  },
  {
   "cell_type": "code",
   "execution_count": 34,
   "metadata": {
    "execution": {
     "iopub.execute_input": "2022-04-27T07:51:30.554372Z",
     "iopub.status.busy": "2022-04-27T07:51:30.554078Z",
     "iopub.status.idle": "2022-04-27T07:51:30.575563Z",
     "shell.execute_reply": "2022-04-27T07:51:30.574924Z",
     "shell.execute_reply.started": "2022-04-27T07:51:30.554337Z"
    }
   },
   "outputs": [
    {
     "data": {
      "text/plain": [
       "0.7497040036801581"
      ]
     },
     "execution_count": 34,
     "metadata": {},
     "output_type": "execute_result"
    }
   ],
   "source": [
    "acc = accuracy_score(y_test,y_pred)\n",
    "acc"
   ]
  },
  {
   "cell_type": "code",
   "execution_count": 35,
   "metadata": {
    "execution": {
     "iopub.execute_input": "2022-04-27T08:07:49.372739Z",
     "iopub.status.busy": "2022-04-27T08:07:49.372426Z",
     "iopub.status.idle": "2022-04-27T08:09:06.685581Z",
     "shell.execute_reply": "2022-04-27T08:09:06.684694Z",
     "shell.execute_reply.started": "2022-04-27T08:07:49.372707Z"
    }
   },
   "outputs": [
    {
     "data": {
      "text/plain": [
       "GradientBoostingClassifier()"
      ]
     },
     "execution_count": 35,
     "metadata": {},
     "output_type": "execute_result"
    }
   ],
   "source": [
    "gbc = GradientBoostingClassifier()\n",
    "gbc.fit(x_train,y_train)"
   ]
  },
  {
   "cell_type": "code",
   "execution_count": 36,
   "metadata": {
    "execution": {
     "iopub.execute_input": "2022-04-27T08:09:40.63205Z",
     "iopub.status.busy": "2022-04-27T08:09:40.631438Z",
     "iopub.status.idle": "2022-04-27T08:09:41.05832Z",
     "shell.execute_reply": "2022-04-27T08:09:41.057386Z",
     "shell.execute_reply.started": "2022-04-27T08:09:40.631997Z"
    }
   },
   "outputs": [
    {
     "data": {
      "text/plain": [
       "0.7498322059078603"
      ]
     },
     "execution_count": 36,
     "metadata": {},
     "output_type": "execute_result"
    }
   ],
   "source": [
    "y_pred = gbc.predict(x_test)\n",
    "acc = accuracy_score(y_test,y_pred)\n",
    "acc"
   ]
  },
  {
   "cell_type": "code",
   "execution_count": 37,
   "metadata": {
    "execution": {
     "iopub.execute_input": "2022-04-27T08:16:27.825038Z",
     "iopub.status.busy": "2022-04-27T08:16:27.824652Z",
     "iopub.status.idle": "2022-04-27T08:17:12.581208Z",
     "shell.execute_reply": "2022-04-27T08:17:12.580311Z",
     "shell.execute_reply.started": "2022-04-27T08:16:27.82499Z"
    }
   },
   "outputs": [
    {
     "name": "stderr",
     "output_type": "stream",
     "text": [
      "C:\\Users\\acer\\anaconda3\\lib\\site-packages\\xgboost\\sklearn.py:888: UserWarning: The use of label encoder in XGBClassifier is deprecated and will be removed in a future release. To remove this warning, do the following: 1) Pass option use_label_encoder=False when constructing XGBClassifier object; and 2) Encode your labels (y) as integers starting with 0, i.e. 0, 1, 2, ..., [num_class - 1].\n",
      "  warnings.warn(label_encoder_deprecation_msg, UserWarning)\n"
     ]
    },
    {
     "name": "stdout",
     "output_type": "stream",
     "text": [
      "[22:05:02] WARNING: C:/Users/Administrator/workspace/xgboost-win64_release_1.3.0/src/learner.cc:1061: Starting in XGBoost 1.3.0, the default evaluation metric used with the objective 'binary:logistic' was changed from 'error' to 'logloss'. Explicitly set eval_metric if you'd like to restore the old behavior.\n"
     ]
    },
    {
     "data": {
      "text/plain": [
       "XGBClassifier(base_score=0.5, booster='gbtree', colsample_bylevel=1,\n",
       "              colsample_bynode=1, colsample_bytree=1, gamma=0, gpu_id=-1,\n",
       "              importance_type='gain', interaction_constraints='',\n",
       "              learning_rate=0.300000012, max_delta_step=0, max_depth=6,\n",
       "              min_child_weight=1, missing=nan, monotone_constraints='()',\n",
       "              n_estimators=100, n_jobs=4, num_parallel_tree=1, random_state=0,\n",
       "              reg_alpha=0, reg_lambda=1, scale_pos_weight=1, subsample=1,\n",
       "              tree_method='exact', validate_parameters=1, verbosity=None)"
      ]
     },
     "execution_count": 37,
     "metadata": {},
     "output_type": "execute_result"
    }
   ],
   "source": [
    "xgb = XGBClassifier()\n",
    "xgb.fit(x_train,y_train)"
   ]
  },
  {
   "cell_type": "code",
   "execution_count": 38,
   "metadata": {
    "execution": {
     "iopub.execute_input": "2022-04-27T08:18:41.046183Z",
     "iopub.status.busy": "2022-04-27T08:18:41.045182Z",
     "iopub.status.idle": "2022-04-27T08:18:41.319928Z",
     "shell.execute_reply": "2022-04-27T08:18:41.319021Z",
     "shell.execute_reply.started": "2022-04-27T08:18:41.046104Z"
    }
   },
   "outputs": [
    {
     "data": {
      "text/plain": [
       "0.9213064561133609"
      ]
     },
     "execution_count": 38,
     "metadata": {},
     "output_type": "execute_result"
    }
   ],
   "source": [
    "y_pred = xgb.predict(x_test)\n",
    "acc = accuracy_score(y_test,y_pred)\n",
    "acc"
   ]
  },
  {
   "cell_type": "code",
   "execution_count": 39,
   "metadata": {
    "execution": {
     "iopub.execute_input": "2022-04-27T08:19:57.146525Z",
     "iopub.status.busy": "2022-04-27T08:19:57.146251Z",
     "iopub.status.idle": "2022-04-27T08:20:32.939435Z",
     "shell.execute_reply": "2022-04-27T08:20:32.938449Z",
     "shell.execute_reply.started": "2022-04-27T08:19:57.146497Z"
    }
   },
   "outputs": [
    {
     "name": "stdout",
     "output_type": "stream",
     "text": [
      "Learning rate set to 0.119231\n",
      "0:\tlearn: 0.6763020\ttotal: 558ms\tremaining: 9m 17s\n",
      "1:\tlearn: 0.6630121\ttotal: 700ms\tremaining: 5m 49s\n",
      "2:\tlearn: 0.6519435\ttotal: 839ms\tremaining: 4m 38s\n",
      "3:\tlearn: 0.6438490\ttotal: 959ms\tremaining: 3m 58s\n",
      "4:\tlearn: 0.6370757\ttotal: 1.12s\tremaining: 3m 43s\n",
      "5:\tlearn: 0.6315151\ttotal: 1.24s\tremaining: 3m 25s\n",
      "6:\tlearn: 0.6264622\ttotal: 1.39s\tremaining: 3m 16s\n",
      "7:\tlearn: 0.6222598\ttotal: 1.5s\tremaining: 3m 6s\n",
      "8:\tlearn: 0.6188364\ttotal: 1.63s\tremaining: 3m\n",
      "9:\tlearn: 0.6152276\ttotal: 1.78s\tremaining: 2m 56s\n",
      "10:\tlearn: 0.6123035\ttotal: 1.91s\tremaining: 2m 51s\n",
      "11:\tlearn: 0.6096571\ttotal: 2.03s\tremaining: 2m 47s\n",
      "12:\tlearn: 0.6071550\ttotal: 2.17s\tremaining: 2m 44s\n",
      "13:\tlearn: 0.6044313\ttotal: 2.29s\tremaining: 2m 41s\n",
      "14:\tlearn: 0.6016814\ttotal: 2.43s\tremaining: 2m 39s\n",
      "15:\tlearn: 0.5995107\ttotal: 2.55s\tremaining: 2m 36s\n",
      "16:\tlearn: 0.5974980\ttotal: 2.69s\tremaining: 2m 35s\n",
      "17:\tlearn: 0.5951311\ttotal: 2.81s\tremaining: 2m 33s\n",
      "18:\tlearn: 0.5930631\ttotal: 2.94s\tremaining: 2m 31s\n",
      "19:\tlearn: 0.5909006\ttotal: 3.06s\tremaining: 2m 29s\n",
      "20:\tlearn: 0.5889467\ttotal: 3.2s\tremaining: 2m 29s\n",
      "21:\tlearn: 0.5867830\ttotal: 3.32s\tremaining: 2m 27s\n",
      "22:\tlearn: 0.5850111\ttotal: 3.45s\tremaining: 2m 26s\n",
      "23:\tlearn: 0.5829493\ttotal: 3.58s\tremaining: 2m 25s\n",
      "24:\tlearn: 0.5811766\ttotal: 3.71s\tremaining: 2m 24s\n",
      "25:\tlearn: 0.5795078\ttotal: 3.83s\tremaining: 2m 23s\n",
      "26:\tlearn: 0.5775843\ttotal: 3.97s\tremaining: 2m 22s\n",
      "27:\tlearn: 0.5756149\ttotal: 4.09s\tremaining: 2m 22s\n",
      "28:\tlearn: 0.5740129\ttotal: 4.23s\tremaining: 2m 21s\n",
      "29:\tlearn: 0.5723412\ttotal: 4.36s\tremaining: 2m 20s\n",
      "30:\tlearn: 0.5707962\ttotal: 4.48s\tremaining: 2m 20s\n",
      "31:\tlearn: 0.5691611\ttotal: 4.6s\tremaining: 2m 19s\n",
      "32:\tlearn: 0.5676066\ttotal: 4.73s\tremaining: 2m 18s\n",
      "33:\tlearn: 0.5659343\ttotal: 4.86s\tremaining: 2m 18s\n",
      "34:\tlearn: 0.5643846\ttotal: 4.99s\tremaining: 2m 17s\n",
      "35:\tlearn: 0.5627170\ttotal: 5.11s\tremaining: 2m 16s\n",
      "36:\tlearn: 0.5611078\ttotal: 5.24s\tremaining: 2m 16s\n",
      "37:\tlearn: 0.5594791\ttotal: 5.37s\tremaining: 2m 15s\n",
      "38:\tlearn: 0.5579238\ttotal: 5.5s\tremaining: 2m 15s\n",
      "39:\tlearn: 0.5564176\ttotal: 5.63s\tremaining: 2m 15s\n",
      "40:\tlearn: 0.5548169\ttotal: 5.76s\tremaining: 2m 14s\n",
      "41:\tlearn: 0.5534512\ttotal: 5.89s\tremaining: 2m 14s\n",
      "42:\tlearn: 0.5519370\ttotal: 6.02s\tremaining: 2m 14s\n",
      "43:\tlearn: 0.5505729\ttotal: 6.15s\tremaining: 2m 13s\n",
      "44:\tlearn: 0.5491596\ttotal: 6.29s\tremaining: 2m 13s\n",
      "45:\tlearn: 0.5476295\ttotal: 6.42s\tremaining: 2m 13s\n",
      "46:\tlearn: 0.5459867\ttotal: 6.57s\tremaining: 2m 13s\n",
      "47:\tlearn: 0.5444265\ttotal: 6.7s\tremaining: 2m 12s\n",
      "48:\tlearn: 0.5429906\ttotal: 6.82s\tremaining: 2m 12s\n",
      "49:\tlearn: 0.5415989\ttotal: 6.94s\tremaining: 2m 11s\n",
      "50:\tlearn: 0.5396498\ttotal: 7.09s\tremaining: 2m 11s\n",
      "51:\tlearn: 0.5383389\ttotal: 7.22s\tremaining: 2m 11s\n",
      "52:\tlearn: 0.5370879\ttotal: 7.35s\tremaining: 2m 11s\n",
      "53:\tlearn: 0.5358207\ttotal: 7.47s\tremaining: 2m 10s\n",
      "54:\tlearn: 0.5345021\ttotal: 7.6s\tremaining: 2m 10s\n",
      "55:\tlearn: 0.5331515\ttotal: 7.74s\tremaining: 2m 10s\n",
      "56:\tlearn: 0.5318430\ttotal: 7.86s\tremaining: 2m 10s\n",
      "57:\tlearn: 0.5303819\ttotal: 8s\tremaining: 2m 9s\n",
      "58:\tlearn: 0.5290439\ttotal: 8.12s\tremaining: 2m 9s\n",
      "59:\tlearn: 0.5277793\ttotal: 8.24s\tremaining: 2m 9s\n",
      "60:\tlearn: 0.5265994\ttotal: 8.37s\tremaining: 2m 8s\n",
      "61:\tlearn: 0.5253164\ttotal: 8.53s\tremaining: 2m 9s\n",
      "62:\tlearn: 0.5242659\ttotal: 8.7s\tremaining: 2m 9s\n",
      "63:\tlearn: 0.5231070\ttotal: 8.83s\tremaining: 2m 9s\n",
      "64:\tlearn: 0.5218953\ttotal: 8.96s\tremaining: 2m 8s\n",
      "65:\tlearn: 0.5183077\ttotal: 9.09s\tremaining: 2m 8s\n",
      "66:\tlearn: 0.5171271\ttotal: 9.24s\tremaining: 2m 8s\n",
      "67:\tlearn: 0.5159696\ttotal: 9.39s\tremaining: 2m 8s\n",
      "68:\tlearn: 0.5148309\ttotal: 9.52s\tremaining: 2m 8s\n",
      "69:\tlearn: 0.5134703\ttotal: 9.66s\tremaining: 2m 8s\n",
      "70:\tlearn: 0.5123127\ttotal: 9.8s\tremaining: 2m 8s\n",
      "71:\tlearn: 0.5112181\ttotal: 9.93s\tremaining: 2m 7s\n",
      "72:\tlearn: 0.5100863\ttotal: 10.1s\tremaining: 2m 7s\n",
      "73:\tlearn: 0.5089392\ttotal: 10.2s\tremaining: 2m 7s\n",
      "74:\tlearn: 0.5078637\ttotal: 10.3s\tremaining: 2m 7s\n",
      "75:\tlearn: 0.5043037\ttotal: 10.5s\tremaining: 2m 7s\n",
      "76:\tlearn: 0.5028536\ttotal: 10.6s\tremaining: 2m 6s\n",
      "77:\tlearn: 0.5017911\ttotal: 10.7s\tremaining: 2m 6s\n",
      "78:\tlearn: 0.5007870\ttotal: 10.8s\tremaining: 2m 6s\n",
      "79:\tlearn: 0.4994084\ttotal: 11s\tremaining: 2m 6s\n",
      "80:\tlearn: 0.4984530\ttotal: 11.1s\tremaining: 2m 6s\n",
      "81:\tlearn: 0.4972714\ttotal: 11.3s\tremaining: 2m 6s\n",
      "82:\tlearn: 0.4961754\ttotal: 11.4s\tremaining: 2m 6s\n",
      "83:\tlearn: 0.4951674\ttotal: 11.5s\tremaining: 2m 5s\n",
      "84:\tlearn: 0.4941423\ttotal: 11.7s\tremaining: 2m 5s\n",
      "85:\tlearn: 0.4931569\ttotal: 11.8s\tremaining: 2m 5s\n",
      "86:\tlearn: 0.4921607\ttotal: 11.9s\tremaining: 2m 5s\n",
      "87:\tlearn: 0.4910691\ttotal: 12.1s\tremaining: 2m 4s\n",
      "88:\tlearn: 0.4900835\ttotal: 12.2s\tremaining: 2m 4s\n",
      "89:\tlearn: 0.4891504\ttotal: 12.3s\tremaining: 2m 4s\n",
      "90:\tlearn: 0.4881806\ttotal: 12.5s\tremaining: 2m 4s\n",
      "91:\tlearn: 0.4873056\ttotal: 12.6s\tremaining: 2m 4s\n",
      "92:\tlearn: 0.4864054\ttotal: 12.7s\tremaining: 2m 4s\n",
      "93:\tlearn: 0.4855288\ttotal: 12.9s\tremaining: 2m 3s\n",
      "94:\tlearn: 0.4846448\ttotal: 13s\tremaining: 2m 3s\n",
      "95:\tlearn: 0.4837575\ttotal: 13.1s\tremaining: 2m 3s\n",
      "96:\tlearn: 0.4828413\ttotal: 13.2s\tremaining: 2m 3s\n",
      "97:\tlearn: 0.4817733\ttotal: 13.4s\tremaining: 2m 3s\n",
      "98:\tlearn: 0.4808974\ttotal: 13.5s\tremaining: 2m 3s\n",
      "99:\tlearn: 0.4800948\ttotal: 13.7s\tremaining: 2m 3s\n",
      "100:\tlearn: 0.4792748\ttotal: 13.8s\tremaining: 2m 3s\n",
      "101:\tlearn: 0.4784673\ttotal: 13.9s\tremaining: 2m 2s\n",
      "102:\tlearn: 0.4776184\ttotal: 14.1s\tremaining: 2m 2s\n",
      "103:\tlearn: 0.4768103\ttotal: 14.2s\tremaining: 2m 2s\n",
      "104:\tlearn: 0.4759766\ttotal: 14.4s\tremaining: 2m 2s\n",
      "105:\tlearn: 0.4750955\ttotal: 14.6s\tremaining: 2m 2s\n",
      "106:\tlearn: 0.4741785\ttotal: 14.7s\tremaining: 2m 2s\n",
      "107:\tlearn: 0.4732851\ttotal: 14.9s\tremaining: 2m 2s\n",
      "108:\tlearn: 0.4722506\ttotal: 15s\tremaining: 2m 2s\n",
      "109:\tlearn: 0.4714655\ttotal: 15.1s\tremaining: 2m 2s\n",
      "110:\tlearn: 0.4706396\ttotal: 15.3s\tremaining: 2m 2s\n",
      "111:\tlearn: 0.4697994\ttotal: 15.4s\tremaining: 2m 1s\n",
      "112:\tlearn: 0.4690630\ttotal: 15.5s\tremaining: 2m 1s\n",
      "113:\tlearn: 0.4682542\ttotal: 15.6s\tremaining: 2m 1s\n",
      "114:\tlearn: 0.4674872\ttotal: 15.8s\tremaining: 2m 1s\n",
      "115:\tlearn: 0.4665671\ttotal: 15.9s\tremaining: 2m 1s\n",
      "116:\tlearn: 0.4658137\ttotal: 16s\tremaining: 2m 1s\n",
      "117:\tlearn: 0.4649046\ttotal: 16.2s\tremaining: 2m\n",
      "118:\tlearn: 0.4641513\ttotal: 16.3s\tremaining: 2m\n",
      "119:\tlearn: 0.4627599\ttotal: 16.4s\tremaining: 2m\n",
      "120:\tlearn: 0.4620384\ttotal: 16.6s\tremaining: 2m\n",
      "121:\tlearn: 0.4613700\ttotal: 16.7s\tremaining: 1m 59s\n",
      "122:\tlearn: 0.4604489\ttotal: 16.8s\tremaining: 1m 59s\n",
      "123:\tlearn: 0.4596665\ttotal: 16.9s\tremaining: 1m 59s\n",
      "124:\tlearn: 0.4589868\ttotal: 17.1s\tremaining: 1m 59s\n",
      "125:\tlearn: 0.4583137\ttotal: 17.2s\tremaining: 1m 59s\n",
      "126:\tlearn: 0.4572390\ttotal: 17.4s\tremaining: 1m 59s\n",
      "127:\tlearn: 0.4565857\ttotal: 17.5s\tremaining: 1m 59s\n",
      "128:\tlearn: 0.4557855\ttotal: 17.7s\tremaining: 1m 59s\n",
      "129:\tlearn: 0.4551521\ttotal: 17.9s\tremaining: 1m 59s\n",
      "130:\tlearn: 0.4542170\ttotal: 18.1s\tremaining: 1m 59s\n",
      "131:\tlearn: 0.4530910\ttotal: 18.3s\tremaining: 2m\n",
      "132:\tlearn: 0.4524450\ttotal: 18.4s\tremaining: 1m 59s\n",
      "133:\tlearn: 0.4515204\ttotal: 18.5s\tremaining: 1m 59s\n",
      "134:\tlearn: 0.4506106\ttotal: 18.7s\tremaining: 1m 59s\n",
      "135:\tlearn: 0.4495509\ttotal: 18.8s\tremaining: 1m 59s\n",
      "136:\tlearn: 0.4488203\ttotal: 18.9s\tremaining: 1m 59s\n",
      "137:\tlearn: 0.4481687\ttotal: 19.1s\tremaining: 1m 59s\n",
      "138:\tlearn: 0.4473703\ttotal: 19.2s\tremaining: 1m 58s\n",
      "139:\tlearn: 0.4466361\ttotal: 19.3s\tremaining: 1m 58s\n",
      "140:\tlearn: 0.4460304\ttotal: 19.5s\tremaining: 1m 58s\n",
      "141:\tlearn: 0.4454137\ttotal: 19.6s\tremaining: 1m 58s\n",
      "142:\tlearn: 0.4448261\ttotal: 19.7s\tremaining: 1m 58s\n",
      "143:\tlearn: 0.4440871\ttotal: 19.8s\tremaining: 1m 57s\n",
      "144:\tlearn: 0.4434771\ttotal: 20s\tremaining: 1m 57s\n",
      "145:\tlearn: 0.4427553\ttotal: 20.1s\tremaining: 1m 57s\n",
      "146:\tlearn: 0.4422067\ttotal: 20.2s\tremaining: 1m 57s\n",
      "147:\tlearn: 0.4413259\ttotal: 20.4s\tremaining: 1m 57s\n",
      "148:\tlearn: 0.4406357\ttotal: 20.5s\tremaining: 1m 57s\n",
      "149:\tlearn: 0.4398430\ttotal: 20.6s\tremaining: 1m 56s\n",
      "150:\tlearn: 0.4392009\ttotal: 20.8s\tremaining: 1m 56s\n",
      "151:\tlearn: 0.4386215\ttotal: 20.9s\tremaining: 1m 56s\n",
      "152:\tlearn: 0.4378271\ttotal: 21s\tremaining: 1m 56s\n",
      "153:\tlearn: 0.4367881\ttotal: 21.1s\tremaining: 1m 56s\n",
      "154:\tlearn: 0.4361498\ttotal: 21.3s\tremaining: 1m 56s\n",
      "155:\tlearn: 0.4356226\ttotal: 21.4s\tremaining: 1m 55s\n",
      "156:\tlearn: 0.4347878\ttotal: 21.5s\tremaining: 1m 55s\n",
      "157:\tlearn: 0.4341785\ttotal: 21.7s\tremaining: 1m 55s\n",
      "158:\tlearn: 0.4336236\ttotal: 21.8s\tremaining: 1m 55s\n",
      "159:\tlearn: 0.4328180\ttotal: 22s\tremaining: 1m 55s\n",
      "160:\tlearn: 0.4323161\ttotal: 22.1s\tremaining: 1m 55s\n",
      "161:\tlearn: 0.4316996\ttotal: 22.2s\tremaining: 1m 54s\n",
      "162:\tlearn: 0.4311111\ttotal: 22.4s\tremaining: 1m 54s\n",
      "163:\tlearn: 0.4303481\ttotal: 22.5s\tremaining: 1m 54s\n",
      "164:\tlearn: 0.4297873\ttotal: 22.6s\tremaining: 1m 54s\n",
      "165:\tlearn: 0.4291565\ttotal: 22.7s\tremaining: 1m 54s\n",
      "166:\tlearn: 0.4286509\ttotal: 22.9s\tremaining: 1m 54s\n",
      "167:\tlearn: 0.4280477\ttotal: 23s\tremaining: 1m 53s\n",
      "168:\tlearn: 0.4274179\ttotal: 23.1s\tremaining: 1m 53s\n",
      "169:\tlearn: 0.4267843\ttotal: 23.2s\tremaining: 1m 53s\n",
      "170:\tlearn: 0.4262226\ttotal: 23.4s\tremaining: 1m 53s\n",
      "171:\tlearn: 0.4256904\ttotal: 23.5s\tremaining: 1m 53s\n",
      "172:\tlearn: 0.4249993\ttotal: 23.6s\tremaining: 1m 52s\n",
      "173:\tlearn: 0.4244458\ttotal: 23.7s\tremaining: 1m 52s\n",
      "174:\tlearn: 0.4238189\ttotal: 23.9s\tremaining: 1m 52s\n",
      "175:\tlearn: 0.4230787\ttotal: 24s\tremaining: 1m 52s\n",
      "176:\tlearn: 0.4224150\ttotal: 24.1s\tremaining: 1m 52s\n",
      "177:\tlearn: 0.4218447\ttotal: 24.2s\tremaining: 1m 51s\n",
      "178:\tlearn: 0.4213778\ttotal: 24.4s\tremaining: 1m 51s\n",
      "179:\tlearn: 0.4209344\ttotal: 24.5s\tremaining: 1m 51s\n",
      "180:\tlearn: 0.4204641\ttotal: 24.6s\tremaining: 1m 51s\n",
      "181:\tlearn: 0.4197879\ttotal: 24.7s\tremaining: 1m 51s\n",
      "182:\tlearn: 0.4190392\ttotal: 24.9s\tremaining: 1m 51s\n",
      "183:\tlearn: 0.4183716\ttotal: 25s\tremaining: 1m 50s\n",
      "184:\tlearn: 0.4175910\ttotal: 25.2s\tremaining: 1m 50s\n",
      "185:\tlearn: 0.4170609\ttotal: 25.3s\tremaining: 1m 50s\n",
      "186:\tlearn: 0.4165972\ttotal: 25.4s\tremaining: 1m 50s\n",
      "187:\tlearn: 0.4159302\ttotal: 25.6s\tremaining: 1m 50s\n",
      "188:\tlearn: 0.4153929\ttotal: 25.7s\tremaining: 1m 50s\n",
      "189:\tlearn: 0.4146106\ttotal: 25.8s\tremaining: 1m 50s\n",
      "190:\tlearn: 0.4138502\ttotal: 26s\tremaining: 1m 49s\n",
      "191:\tlearn: 0.4134165\ttotal: 26.1s\tremaining: 1m 49s\n",
      "192:\tlearn: 0.4128780\ttotal: 26.2s\tremaining: 1m 49s\n",
      "193:\tlearn: 0.4124582\ttotal: 26.3s\tremaining: 1m 49s\n",
      "194:\tlearn: 0.4119401\ttotal: 26.5s\tremaining: 1m 49s\n",
      "195:\tlearn: 0.4114644\ttotal: 26.6s\tremaining: 1m 49s\n",
      "196:\tlearn: 0.4109710\ttotal: 26.7s\tremaining: 1m 49s\n",
      "197:\tlearn: 0.4104122\ttotal: 26.9s\tremaining: 1m 48s\n",
      "198:\tlearn: 0.4098224\ttotal: 27s\tremaining: 1m 48s\n",
      "199:\tlearn: 0.4091222\ttotal: 27.2s\tremaining: 1m 48s\n",
      "200:\tlearn: 0.4086791\ttotal: 27.3s\tremaining: 1m 48s\n",
      "201:\tlearn: 0.4076819\ttotal: 27.4s\tremaining: 1m 48s\n",
      "202:\tlearn: 0.4072958\ttotal: 27.5s\tremaining: 1m 48s\n",
      "203:\tlearn: 0.4068008\ttotal: 27.7s\tremaining: 1m 47s\n",
      "204:\tlearn: 0.4062396\ttotal: 27.8s\tremaining: 1m 47s\n",
      "205:\tlearn: 0.4058706\ttotal: 27.9s\tremaining: 1m 47s\n",
      "206:\tlearn: 0.4054299\ttotal: 28.1s\tremaining: 1m 47s\n",
      "207:\tlearn: 0.4048024\ttotal: 28.2s\tremaining: 1m 47s\n",
      "208:\tlearn: 0.4043826\ttotal: 28.3s\tremaining: 1m 47s\n",
      "209:\tlearn: 0.4038330\ttotal: 28.5s\tremaining: 1m 47s\n",
      "210:\tlearn: 0.4029854\ttotal: 28.6s\tremaining: 1m 46s\n",
      "211:\tlearn: 0.4023548\ttotal: 28.7s\tremaining: 1m 46s\n",
      "212:\tlearn: 0.4018466\ttotal: 28.9s\tremaining: 1m 46s\n",
      "213:\tlearn: 0.4013235\ttotal: 29s\tremaining: 1m 46s\n",
      "214:\tlearn: 0.4009003\ttotal: 29.1s\tremaining: 1m 46s\n",
      "215:\tlearn: 0.4003960\ttotal: 29.3s\tremaining: 1m 46s\n",
      "216:\tlearn: 0.3998203\ttotal: 29.4s\tremaining: 1m 46s\n",
      "217:\tlearn: 0.3992846\ttotal: 29.5s\tremaining: 1m 45s\n",
      "218:\tlearn: 0.3988051\ttotal: 29.7s\tremaining: 1m 45s\n",
      "219:\tlearn: 0.3982456\ttotal: 29.8s\tremaining: 1m 45s\n",
      "220:\tlearn: 0.3977660\ttotal: 29.9s\tremaining: 1m 45s\n",
      "221:\tlearn: 0.3973445\ttotal: 30.1s\tremaining: 1m 45s\n",
      "222:\tlearn: 0.3968663\ttotal: 30.2s\tremaining: 1m 45s\n",
      "223:\tlearn: 0.3963328\ttotal: 30.3s\tremaining: 1m 45s\n",
      "224:\tlearn: 0.3959738\ttotal: 30.4s\tremaining: 1m 44s\n",
      "225:\tlearn: 0.3953789\ttotal: 30.6s\tremaining: 1m 44s\n",
      "226:\tlearn: 0.3948228\ttotal: 30.7s\tremaining: 1m 44s\n",
      "227:\tlearn: 0.3942949\ttotal: 30.8s\tremaining: 1m 44s\n",
      "228:\tlearn: 0.3936357\ttotal: 31s\tremaining: 1m 44s\n",
      "229:\tlearn: 0.3928436\ttotal: 31.1s\tremaining: 1m 44s\n",
      "230:\tlearn: 0.3924440\ttotal: 31.3s\tremaining: 1m 44s\n",
      "231:\tlearn: 0.3920852\ttotal: 31.4s\tremaining: 1m 43s\n",
      "232:\tlearn: 0.3916514\ttotal: 31.5s\tremaining: 1m 43s\n",
      "233:\tlearn: 0.3910484\ttotal: 31.6s\tremaining: 1m 43s\n",
      "234:\tlearn: 0.3906640\ttotal: 31.8s\tremaining: 1m 43s\n",
      "235:\tlearn: 0.3900220\ttotal: 31.9s\tremaining: 1m 43s\n",
      "236:\tlearn: 0.3896629\ttotal: 32s\tremaining: 1m 43s\n",
      "237:\tlearn: 0.3892128\ttotal: 32.2s\tremaining: 1m 43s\n",
      "238:\tlearn: 0.3888435\ttotal: 32.3s\tremaining: 1m 42s\n",
      "239:\tlearn: 0.3885395\ttotal: 32.4s\tremaining: 1m 42s\n",
      "240:\tlearn: 0.3880074\ttotal: 32.6s\tremaining: 1m 42s\n",
      "241:\tlearn: 0.3876666\ttotal: 32.8s\tremaining: 1m 42s\n",
      "242:\tlearn: 0.3871853\ttotal: 32.9s\tremaining: 1m 42s\n",
      "243:\tlearn: 0.3868348\ttotal: 33.1s\tremaining: 1m 42s\n",
      "244:\tlearn: 0.3862831\ttotal: 33.2s\tremaining: 1m 42s\n",
      "245:\tlearn: 0.3859605\ttotal: 33.4s\tremaining: 1m 42s\n",
      "246:\tlearn: 0.3855440\ttotal: 33.6s\tremaining: 1m 42s\n",
      "247:\tlearn: 0.3851900\ttotal: 33.7s\tremaining: 1m 42s\n",
      "248:\tlearn: 0.3846434\ttotal: 33.9s\tremaining: 1m 42s\n",
      "249:\tlearn: 0.3841638\ttotal: 34s\tremaining: 1m 42s\n",
      "250:\tlearn: 0.3838725\ttotal: 34.2s\tremaining: 1m 41s\n",
      "251:\tlearn: 0.3834731\ttotal: 34.3s\tremaining: 1m 41s\n",
      "252:\tlearn: 0.3831840\ttotal: 34.5s\tremaining: 1m 41s\n",
      "253:\tlearn: 0.3825346\ttotal: 34.7s\tremaining: 1m 41s\n",
      "254:\tlearn: 0.3821433\ttotal: 34.8s\tremaining: 1m 41s\n",
      "255:\tlearn: 0.3817743\ttotal: 35s\tremaining: 1m 41s\n",
      "256:\tlearn: 0.3813479\ttotal: 35.1s\tremaining: 1m 41s\n",
      "257:\tlearn: 0.3808651\ttotal: 35.3s\tremaining: 1m 41s\n",
      "258:\tlearn: 0.3804939\ttotal: 35.5s\tremaining: 1m 41s\n",
      "259:\tlearn: 0.3801273\ttotal: 35.6s\tremaining: 1m 41s\n",
      "260:\tlearn: 0.3797496\ttotal: 35.8s\tremaining: 1m 41s\n",
      "261:\tlearn: 0.3793661\ttotal: 35.9s\tremaining: 1m 41s\n",
      "262:\tlearn: 0.3789255\ttotal: 36.1s\tremaining: 1m 41s\n",
      "263:\tlearn: 0.3786157\ttotal: 36.2s\tremaining: 1m 40s\n",
      "264:\tlearn: 0.3780454\ttotal: 36.3s\tremaining: 1m 40s\n",
      "265:\tlearn: 0.3776716\ttotal: 36.4s\tremaining: 1m 40s\n",
      "266:\tlearn: 0.3770341\ttotal: 36.6s\tremaining: 1m 40s\n",
      "267:\tlearn: 0.3766453\ttotal: 36.7s\tremaining: 1m 40s\n",
      "268:\tlearn: 0.3762766\ttotal: 36.8s\tremaining: 1m 40s\n",
      "269:\tlearn: 0.3757818\ttotal: 37s\tremaining: 1m 39s\n",
      "270:\tlearn: 0.3753652\ttotal: 37.1s\tremaining: 1m 39s\n",
      "271:\tlearn: 0.3749243\ttotal: 37.2s\tremaining: 1m 39s\n",
      "272:\tlearn: 0.3744974\ttotal: 37.4s\tremaining: 1m 39s\n",
      "273:\tlearn: 0.3741721\ttotal: 37.5s\tremaining: 1m 39s\n",
      "274:\tlearn: 0.3736584\ttotal: 37.7s\tremaining: 1m 39s\n",
      "275:\tlearn: 0.3733695\ttotal: 37.8s\tremaining: 1m 39s\n",
      "276:\tlearn: 0.3728691\ttotal: 37.9s\tremaining: 1m 38s\n",
      "277:\tlearn: 0.3719860\ttotal: 38.1s\tremaining: 1m 38s\n",
      "278:\tlearn: 0.3716163\ttotal: 38.2s\tremaining: 1m 38s\n",
      "279:\tlearn: 0.3713450\ttotal: 38.3s\tremaining: 1m 38s\n",
      "280:\tlearn: 0.3709474\ttotal: 38.5s\tremaining: 1m 38s\n",
      "281:\tlearn: 0.3704619\ttotal: 38.6s\tremaining: 1m 38s\n",
      "282:\tlearn: 0.3699204\ttotal: 38.7s\tremaining: 1m 38s\n",
      "283:\tlearn: 0.3695527\ttotal: 38.9s\tremaining: 1m 38s\n",
      "284:\tlearn: 0.3691365\ttotal: 39s\tremaining: 1m 37s\n",
      "285:\tlearn: 0.3686013\ttotal: 39.2s\tremaining: 1m 37s\n",
      "286:\tlearn: 0.3682888\ttotal: 39.3s\tremaining: 1m 37s\n",
      "287:\tlearn: 0.3678879\ttotal: 39.4s\tremaining: 1m 37s\n",
      "288:\tlearn: 0.3673783\ttotal: 39.5s\tremaining: 1m 37s\n",
      "289:\tlearn: 0.3670118\ttotal: 39.7s\tremaining: 1m 37s\n",
      "290:\tlearn: 0.3665273\ttotal: 39.8s\tremaining: 1m 37s\n",
      "291:\tlearn: 0.3661973\ttotal: 40s\tremaining: 1m 36s\n",
      "292:\tlearn: 0.3658077\ttotal: 40.1s\tremaining: 1m 36s\n",
      "293:\tlearn: 0.3653202\ttotal: 40.2s\tremaining: 1m 36s\n",
      "294:\tlearn: 0.3649834\ttotal: 40.4s\tremaining: 1m 36s\n",
      "295:\tlearn: 0.3646823\ttotal: 40.5s\tremaining: 1m 36s\n",
      "296:\tlearn: 0.3643704\ttotal: 40.6s\tremaining: 1m 36s\n",
      "297:\tlearn: 0.3639834\ttotal: 40.8s\tremaining: 1m 36s\n",
      "298:\tlearn: 0.3635216\ttotal: 40.9s\tremaining: 1m 35s\n",
      "299:\tlearn: 0.3628883\ttotal: 41s\tremaining: 1m 35s\n",
      "300:\tlearn: 0.3624596\ttotal: 41.2s\tremaining: 1m 35s\n",
      "301:\tlearn: 0.3618496\ttotal: 41.3s\tremaining: 1m 35s\n",
      "302:\tlearn: 0.3614570\ttotal: 41.5s\tremaining: 1m 35s\n",
      "303:\tlearn: 0.3611081\ttotal: 41.6s\tremaining: 1m 35s\n",
      "304:\tlearn: 0.3605470\ttotal: 41.7s\tremaining: 1m 35s\n",
      "305:\tlearn: 0.3602350\ttotal: 41.9s\tremaining: 1m 34s\n",
      "306:\tlearn: 0.3598220\ttotal: 42s\tremaining: 1m 34s\n",
      "307:\tlearn: 0.3593880\ttotal: 42.1s\tremaining: 1m 34s\n",
      "308:\tlearn: 0.3588092\ttotal: 42.3s\tremaining: 1m 34s\n",
      "309:\tlearn: 0.3584731\ttotal: 42.4s\tremaining: 1m 34s\n",
      "310:\tlearn: 0.3580216\ttotal: 42.6s\tremaining: 1m 34s\n",
      "311:\tlearn: 0.3577695\ttotal: 42.7s\tremaining: 1m 34s\n",
      "312:\tlearn: 0.3573327\ttotal: 42.8s\tremaining: 1m 34s\n",
      "313:\tlearn: 0.3569627\ttotal: 43s\tremaining: 1m 33s\n",
      "314:\tlearn: 0.3565044\ttotal: 43.1s\tremaining: 1m 33s\n",
      "315:\tlearn: 0.3561565\ttotal: 43.2s\tremaining: 1m 33s\n",
      "316:\tlearn: 0.3558866\ttotal: 43.4s\tremaining: 1m 33s\n",
      "317:\tlearn: 0.3555025\ttotal: 43.5s\tremaining: 1m 33s\n",
      "318:\tlearn: 0.3551292\ttotal: 43.6s\tremaining: 1m 33s\n",
      "319:\tlearn: 0.3547793\ttotal: 43.8s\tremaining: 1m 33s\n",
      "320:\tlearn: 0.3543346\ttotal: 43.9s\tremaining: 1m 32s\n",
      "321:\tlearn: 0.3539847\ttotal: 44.1s\tremaining: 1m 32s\n",
      "322:\tlearn: 0.3536695\ttotal: 44.2s\tremaining: 1m 32s\n",
      "323:\tlearn: 0.3533804\ttotal: 44.3s\tremaining: 1m 32s\n",
      "324:\tlearn: 0.3531012\ttotal: 44.5s\tremaining: 1m 32s\n",
      "325:\tlearn: 0.3528220\ttotal: 44.6s\tremaining: 1m 32s\n",
      "326:\tlearn: 0.3524838\ttotal: 44.7s\tremaining: 1m 32s\n",
      "327:\tlearn: 0.3521136\ttotal: 44.8s\tremaining: 1m 31s\n",
      "328:\tlearn: 0.3516268\ttotal: 45s\tremaining: 1m 31s\n",
      "329:\tlearn: 0.3512922\ttotal: 45.1s\tremaining: 1m 31s\n",
      "330:\tlearn: 0.3510301\ttotal: 45.3s\tremaining: 1m 31s\n",
      "331:\tlearn: 0.3507746\ttotal: 45.4s\tremaining: 1m 31s\n",
      "332:\tlearn: 0.3503671\ttotal: 45.5s\tremaining: 1m 31s\n",
      "333:\tlearn: 0.3500701\ttotal: 45.7s\tremaining: 1m 31s\n",
      "334:\tlearn: 0.3495688\ttotal: 45.8s\tremaining: 1m 30s\n",
      "335:\tlearn: 0.3492648\ttotal: 45.9s\tremaining: 1m 30s\n",
      "336:\tlearn: 0.3489624\ttotal: 46s\tremaining: 1m 30s\n",
      "337:\tlearn: 0.3487096\ttotal: 46.2s\tremaining: 1m 30s\n",
      "338:\tlearn: 0.3480464\ttotal: 46.3s\tremaining: 1m 30s\n",
      "339:\tlearn: 0.3475986\ttotal: 46.4s\tremaining: 1m 30s\n",
      "340:\tlearn: 0.3471972\ttotal: 46.6s\tremaining: 1m 30s\n",
      "341:\tlearn: 0.3468978\ttotal: 46.7s\tremaining: 1m 29s\n",
      "342:\tlearn: 0.3466104\ttotal: 46.8s\tremaining: 1m 29s\n",
      "343:\tlearn: 0.3460486\ttotal: 47s\tremaining: 1m 29s\n",
      "344:\tlearn: 0.3457686\ttotal: 47.1s\tremaining: 1m 29s\n",
      "345:\tlearn: 0.3453966\ttotal: 47.2s\tremaining: 1m 29s\n",
      "346:\tlearn: 0.3448654\ttotal: 47.4s\tremaining: 1m 29s\n",
      "347:\tlearn: 0.3443981\ttotal: 47.5s\tremaining: 1m 29s\n",
      "348:\tlearn: 0.3440768\ttotal: 47.7s\tremaining: 1m 28s\n",
      "349:\tlearn: 0.3438051\ttotal: 47.8s\tremaining: 1m 28s\n",
      "350:\tlearn: 0.3435524\ttotal: 47.9s\tremaining: 1m 28s\n",
      "351:\tlearn: 0.3431982\ttotal: 48.1s\tremaining: 1m 28s\n",
      "352:\tlearn: 0.3428906\ttotal: 48.2s\tremaining: 1m 28s\n",
      "353:\tlearn: 0.3426971\ttotal: 48.3s\tremaining: 1m 28s\n",
      "354:\tlearn: 0.3424522\ttotal: 48.4s\tremaining: 1m 27s\n",
      "355:\tlearn: 0.3421056\ttotal: 48.6s\tremaining: 1m 27s\n",
      "356:\tlearn: 0.3417983\ttotal: 48.7s\tremaining: 1m 27s\n",
      "357:\tlearn: 0.3414332\ttotal: 48.8s\tremaining: 1m 27s\n",
      "358:\tlearn: 0.3410341\ttotal: 49s\tremaining: 1m 27s\n",
      "359:\tlearn: 0.3407407\ttotal: 49.1s\tremaining: 1m 27s\n",
      "360:\tlearn: 0.3403457\ttotal: 49.2s\tremaining: 1m 27s\n",
      "361:\tlearn: 0.3400283\ttotal: 49.4s\tremaining: 1m 27s\n",
      "362:\tlearn: 0.3397105\ttotal: 49.5s\tremaining: 1m 26s\n",
      "363:\tlearn: 0.3394410\ttotal: 49.6s\tremaining: 1m 26s\n",
      "364:\tlearn: 0.3389208\ttotal: 49.8s\tremaining: 1m 26s\n",
      "365:\tlearn: 0.3384904\ttotal: 49.9s\tremaining: 1m 26s\n",
      "366:\tlearn: 0.3379167\ttotal: 50s\tremaining: 1m 26s\n",
      "367:\tlearn: 0.3376769\ttotal: 50.2s\tremaining: 1m 26s\n",
      "368:\tlearn: 0.3374370\ttotal: 50.3s\tremaining: 1m 26s\n",
      "369:\tlearn: 0.3371043\ttotal: 50.4s\tremaining: 1m 25s\n",
      "370:\tlearn: 0.3366297\ttotal: 50.6s\tremaining: 1m 25s\n",
      "371:\tlearn: 0.3362889\ttotal: 50.7s\tremaining: 1m 25s\n",
      "372:\tlearn: 0.3359377\ttotal: 50.9s\tremaining: 1m 25s\n",
      "373:\tlearn: 0.3356419\ttotal: 51s\tremaining: 1m 25s\n",
      "374:\tlearn: 0.3353909\ttotal: 51.1s\tremaining: 1m 25s\n",
      "375:\tlearn: 0.3349982\ttotal: 51.2s\tremaining: 1m 25s\n",
      "376:\tlearn: 0.3346063\ttotal: 51.4s\tremaining: 1m 24s\n",
      "377:\tlearn: 0.3342436\ttotal: 51.5s\tremaining: 1m 24s\n",
      "378:\tlearn: 0.3339403\ttotal: 51.7s\tremaining: 1m 24s\n",
      "379:\tlearn: 0.3337289\ttotal: 51.8s\tremaining: 1m 24s\n",
      "380:\tlearn: 0.3332482\ttotal: 51.9s\tremaining: 1m 24s\n",
      "381:\tlearn: 0.3325334\ttotal: 52.1s\tremaining: 1m 24s\n",
      "382:\tlearn: 0.3321111\ttotal: 52.2s\tremaining: 1m 24s\n",
      "383:\tlearn: 0.3317005\ttotal: 52.3s\tremaining: 1m 23s\n",
      "384:\tlearn: 0.3314094\ttotal: 52.5s\tremaining: 1m 23s\n",
      "385:\tlearn: 0.3311769\ttotal: 52.6s\tremaining: 1m 23s\n",
      "386:\tlearn: 0.3308676\ttotal: 52.7s\tremaining: 1m 23s\n",
      "387:\tlearn: 0.3305668\ttotal: 52.9s\tremaining: 1m 23s\n",
      "388:\tlearn: 0.3303063\ttotal: 53s\tremaining: 1m 23s\n",
      "389:\tlearn: 0.3298909\ttotal: 53.1s\tremaining: 1m 23s\n",
      "390:\tlearn: 0.3296137\ttotal: 53.3s\tremaining: 1m 22s\n",
      "391:\tlearn: 0.3292844\ttotal: 53.4s\tremaining: 1m 22s\n",
      "392:\tlearn: 0.3289432\ttotal: 53.5s\tremaining: 1m 22s\n",
      "393:\tlearn: 0.3286145\ttotal: 53.7s\tremaining: 1m 22s\n",
      "394:\tlearn: 0.3281151\ttotal: 53.8s\tremaining: 1m 22s\n",
      "395:\tlearn: 0.3278349\ttotal: 54s\tremaining: 1m 22s\n",
      "396:\tlearn: 0.3275939\ttotal: 54.1s\tremaining: 1m 22s\n",
      "397:\tlearn: 0.3272210\ttotal: 54.2s\tremaining: 1m 22s\n",
      "398:\tlearn: 0.3270547\ttotal: 54.4s\tremaining: 1m 21s\n",
      "399:\tlearn: 0.3266421\ttotal: 54.5s\tremaining: 1m 21s\n",
      "400:\tlearn: 0.3263526\ttotal: 54.6s\tremaining: 1m 21s\n",
      "401:\tlearn: 0.3260150\ttotal: 54.8s\tremaining: 1m 21s\n",
      "402:\tlearn: 0.3257987\ttotal: 54.9s\tremaining: 1m 21s\n",
      "403:\tlearn: 0.3253466\ttotal: 55s\tremaining: 1m 21s\n",
      "404:\tlearn: 0.3250685\ttotal: 55.2s\tremaining: 1m 21s\n",
      "405:\tlearn: 0.3247268\ttotal: 55.3s\tremaining: 1m 20s\n",
      "406:\tlearn: 0.3244043\ttotal: 55.5s\tremaining: 1m 20s\n",
      "407:\tlearn: 0.3241193\ttotal: 55.6s\tremaining: 1m 20s\n",
      "408:\tlearn: 0.3238016\ttotal: 55.7s\tremaining: 1m 20s\n",
      "409:\tlearn: 0.3235372\ttotal: 55.9s\tremaining: 1m 20s\n",
      "410:\tlearn: 0.3230057\ttotal: 56s\tremaining: 1m 20s\n",
      "411:\tlearn: 0.3225958\ttotal: 56.2s\tremaining: 1m 20s\n",
      "412:\tlearn: 0.3224292\ttotal: 56.3s\tremaining: 1m 20s\n",
      "413:\tlearn: 0.3221509\ttotal: 56.4s\tremaining: 1m 19s\n",
      "414:\tlearn: 0.3217303\ttotal: 56.6s\tremaining: 1m 19s\n",
      "415:\tlearn: 0.3212880\ttotal: 56.7s\tremaining: 1m 19s\n",
      "416:\tlearn: 0.3209627\ttotal: 56.8s\tremaining: 1m 19s\n",
      "417:\tlearn: 0.3206449\ttotal: 57s\tremaining: 1m 19s\n",
      "418:\tlearn: 0.3202895\ttotal: 57.1s\tremaining: 1m 19s\n",
      "419:\tlearn: 0.3200712\ttotal: 57.2s\tremaining: 1m 19s\n",
      "420:\tlearn: 0.3198400\ttotal: 57.4s\tremaining: 1m 18s\n",
      "421:\tlearn: 0.3194533\ttotal: 57.5s\tremaining: 1m 18s\n",
      "422:\tlearn: 0.3192129\ttotal: 57.6s\tremaining: 1m 18s\n",
      "423:\tlearn: 0.3188511\ttotal: 57.8s\tremaining: 1m 18s\n",
      "424:\tlearn: 0.3185263\ttotal: 57.9s\tremaining: 1m 18s\n",
      "425:\tlearn: 0.3182160\ttotal: 58s\tremaining: 1m 18s\n",
      "426:\tlearn: 0.3179495\ttotal: 58.2s\tremaining: 1m 18s\n",
      "427:\tlearn: 0.3177159\ttotal: 58.3s\tremaining: 1m 17s\n",
      "428:\tlearn: 0.3168604\ttotal: 58.4s\tremaining: 1m 17s\n",
      "429:\tlearn: 0.3164620\ttotal: 58.6s\tremaining: 1m 17s\n",
      "430:\tlearn: 0.3162315\ttotal: 58.7s\tremaining: 1m 17s\n",
      "431:\tlearn: 0.3159458\ttotal: 58.9s\tremaining: 1m 17s\n",
      "432:\tlearn: 0.3156736\ttotal: 59s\tremaining: 1m 17s\n",
      "433:\tlearn: 0.3152461\ttotal: 59.1s\tremaining: 1m 17s\n",
      "434:\tlearn: 0.3147670\ttotal: 59.3s\tremaining: 1m 16s\n",
      "435:\tlearn: 0.3144905\ttotal: 59.4s\tremaining: 1m 16s\n",
      "436:\tlearn: 0.3142660\ttotal: 59.6s\tremaining: 1m 16s\n",
      "437:\tlearn: 0.3140455\ttotal: 59.7s\tremaining: 1m 16s\n",
      "438:\tlearn: 0.3138402\ttotal: 59.8s\tremaining: 1m 16s\n",
      "439:\tlearn: 0.3136458\ttotal: 59.9s\tremaining: 1m 16s\n",
      "440:\tlearn: 0.3133460\ttotal: 1m\tremaining: 1m 16s\n",
      "441:\tlearn: 0.3131673\ttotal: 1m\tremaining: 1m 16s\n",
      "442:\tlearn: 0.3127888\ttotal: 1m\tremaining: 1m 15s\n",
      "443:\tlearn: 0.3124137\ttotal: 1m\tremaining: 1m 15s\n",
      "444:\tlearn: 0.3120830\ttotal: 1m\tremaining: 1m 15s\n",
      "445:\tlearn: 0.3117489\ttotal: 1m\tremaining: 1m 15s\n",
      "446:\tlearn: 0.3115240\ttotal: 1m\tremaining: 1m 15s\n",
      "447:\tlearn: 0.3111674\ttotal: 1m 1s\tremaining: 1m 15s\n",
      "448:\tlearn: 0.3109309\ttotal: 1m 1s\tremaining: 1m 15s\n",
      "449:\tlearn: 0.3106495\ttotal: 1m 1s\tremaining: 1m 14s\n",
      "450:\tlearn: 0.3103879\ttotal: 1m 1s\tremaining: 1m 14s\n",
      "451:\tlearn: 0.3101547\ttotal: 1m 1s\tremaining: 1m 14s\n",
      "452:\tlearn: 0.3097529\ttotal: 1m 1s\tremaining: 1m 14s\n",
      "453:\tlearn: 0.3094719\ttotal: 1m 1s\tremaining: 1m 14s\n",
      "454:\tlearn: 0.3092094\ttotal: 1m 2s\tremaining: 1m 14s\n",
      "455:\tlearn: 0.3089255\ttotal: 1m 2s\tremaining: 1m 14s\n",
      "456:\tlearn: 0.3086378\ttotal: 1m 2s\tremaining: 1m 14s\n",
      "457:\tlearn: 0.3083891\ttotal: 1m 2s\tremaining: 1m 13s\n",
      "458:\tlearn: 0.3080236\ttotal: 1m 2s\tremaining: 1m 13s\n",
      "459:\tlearn: 0.3076854\ttotal: 1m 2s\tremaining: 1m 13s\n",
      "460:\tlearn: 0.3074350\ttotal: 1m 2s\tremaining: 1m 13s\n",
      "461:\tlearn: 0.3070288\ttotal: 1m 2s\tremaining: 1m 13s\n",
      "462:\tlearn: 0.3067897\ttotal: 1m 3s\tremaining: 1m 13s\n",
      "463:\tlearn: 0.3065453\ttotal: 1m 3s\tremaining: 1m 13s\n",
      "464:\tlearn: 0.3063178\ttotal: 1m 3s\tremaining: 1m 12s\n",
      "465:\tlearn: 0.3060018\ttotal: 1m 3s\tremaining: 1m 12s\n",
      "466:\tlearn: 0.3056176\ttotal: 1m 3s\tremaining: 1m 12s\n",
      "467:\tlearn: 0.3053548\ttotal: 1m 3s\tremaining: 1m 12s\n",
      "468:\tlearn: 0.3050026\ttotal: 1m 3s\tremaining: 1m 12s\n",
      "469:\tlearn: 0.3047167\ttotal: 1m 4s\tremaining: 1m 12s\n",
      "470:\tlearn: 0.3044183\ttotal: 1m 4s\tremaining: 1m 12s\n",
      "471:\tlearn: 0.3041610\ttotal: 1m 4s\tremaining: 1m 12s\n",
      "472:\tlearn: 0.3039263\ttotal: 1m 4s\tremaining: 1m 11s\n",
      "473:\tlearn: 0.3037034\ttotal: 1m 4s\tremaining: 1m 11s\n",
      "474:\tlearn: 0.3034052\ttotal: 1m 4s\tremaining: 1m 11s\n",
      "475:\tlearn: 0.3032048\ttotal: 1m 4s\tremaining: 1m 11s\n",
      "476:\tlearn: 0.3028198\ttotal: 1m 5s\tremaining: 1m 11s\n",
      "477:\tlearn: 0.3025487\ttotal: 1m 5s\tremaining: 1m 11s\n",
      "478:\tlearn: 0.3022807\ttotal: 1m 5s\tremaining: 1m 11s\n",
      "479:\tlearn: 0.3020893\ttotal: 1m 5s\tremaining: 1m 10s\n",
      "480:\tlearn: 0.3014071\ttotal: 1m 5s\tremaining: 1m 10s\n",
      "481:\tlearn: 0.2998649\ttotal: 1m 5s\tremaining: 1m 10s\n",
      "482:\tlearn: 0.2995898\ttotal: 1m 5s\tremaining: 1m 10s\n",
      "483:\tlearn: 0.2992657\ttotal: 1m 6s\tremaining: 1m 10s\n",
      "484:\tlearn: 0.2990599\ttotal: 1m 6s\tremaining: 1m 10s\n",
      "485:\tlearn: 0.2987581\ttotal: 1m 6s\tremaining: 1m 10s\n",
      "486:\tlearn: 0.2984975\ttotal: 1m 6s\tremaining: 1m 9s\n",
      "487:\tlearn: 0.2982937\ttotal: 1m 6s\tremaining: 1m 9s\n",
      "488:\tlearn: 0.2980138\ttotal: 1m 6s\tremaining: 1m 9s\n",
      "489:\tlearn: 0.2978672\ttotal: 1m 6s\tremaining: 1m 9s\n",
      "490:\tlearn: 0.2976271\ttotal: 1m 6s\tremaining: 1m 9s\n",
      "491:\tlearn: 0.2974232\ttotal: 1m 7s\tremaining: 1m 9s\n",
      "492:\tlearn: 0.2969752\ttotal: 1m 7s\tremaining: 1m 9s\n",
      "493:\tlearn: 0.2967697\ttotal: 1m 7s\tremaining: 1m 8s\n",
      "494:\tlearn: 0.2965069\ttotal: 1m 7s\tremaining: 1m 8s\n",
      "495:\tlearn: 0.2962993\ttotal: 1m 7s\tremaining: 1m 8s\n",
      "496:\tlearn: 0.2960409\ttotal: 1m 7s\tremaining: 1m 8s\n",
      "497:\tlearn: 0.2957614\ttotal: 1m 7s\tremaining: 1m 8s\n",
      "498:\tlearn: 0.2955471\ttotal: 1m 8s\tremaining: 1m 8s\n",
      "499:\tlearn: 0.2952911\ttotal: 1m 8s\tremaining: 1m 8s\n",
      "500:\tlearn: 0.2950948\ttotal: 1m 8s\tremaining: 1m 8s\n",
      "501:\tlearn: 0.2947911\ttotal: 1m 8s\tremaining: 1m 7s\n",
      "502:\tlearn: 0.2944967\ttotal: 1m 8s\tremaining: 1m 7s\n",
      "503:\tlearn: 0.2943244\ttotal: 1m 8s\tremaining: 1m 7s\n",
      "504:\tlearn: 0.2940796\ttotal: 1m 8s\tremaining: 1m 7s\n",
      "505:\tlearn: 0.2934186\ttotal: 1m 8s\tremaining: 1m 7s\n",
      "506:\tlearn: 0.2932418\ttotal: 1m 9s\tremaining: 1m 7s\n",
      "507:\tlearn: 0.2930540\ttotal: 1m 9s\tremaining: 1m 7s\n",
      "508:\tlearn: 0.2927490\ttotal: 1m 9s\tremaining: 1m 6s\n",
      "509:\tlearn: 0.2925129\ttotal: 1m 9s\tremaining: 1m 6s\n",
      "510:\tlearn: 0.2922736\ttotal: 1m 9s\tremaining: 1m 6s\n",
      "511:\tlearn: 0.2916727\ttotal: 1m 9s\tremaining: 1m 6s\n",
      "512:\tlearn: 0.2913479\ttotal: 1m 9s\tremaining: 1m 6s\n",
      "513:\tlearn: 0.2911915\ttotal: 1m 10s\tremaining: 1m 6s\n",
      "514:\tlearn: 0.2909909\ttotal: 1m 10s\tremaining: 1m 6s\n",
      "515:\tlearn: 0.2907482\ttotal: 1m 10s\tremaining: 1m 5s\n",
      "516:\tlearn: 0.2904860\ttotal: 1m 10s\tremaining: 1m 5s\n",
      "517:\tlearn: 0.2902468\ttotal: 1m 10s\tremaining: 1m 5s\n",
      "518:\tlearn: 0.2900245\ttotal: 1m 10s\tremaining: 1m 5s\n",
      "519:\tlearn: 0.2898960\ttotal: 1m 10s\tremaining: 1m 5s\n",
      "520:\tlearn: 0.2896268\ttotal: 1m 11s\tremaining: 1m 5s\n",
      "521:\tlearn: 0.2893440\ttotal: 1m 11s\tremaining: 1m 5s\n",
      "522:\tlearn: 0.2891419\ttotal: 1m 11s\tremaining: 1m 5s\n",
      "523:\tlearn: 0.2890181\ttotal: 1m 11s\tremaining: 1m 4s\n",
      "524:\tlearn: 0.2888393\ttotal: 1m 11s\tremaining: 1m 4s\n",
      "525:\tlearn: 0.2886296\ttotal: 1m 11s\tremaining: 1m 4s\n",
      "526:\tlearn: 0.2884674\ttotal: 1m 11s\tremaining: 1m 4s\n",
      "527:\tlearn: 0.2881926\ttotal: 1m 11s\tremaining: 1m 4s\n",
      "528:\tlearn: 0.2879424\ttotal: 1m 12s\tremaining: 1m 4s\n",
      "529:\tlearn: 0.2876620\ttotal: 1m 12s\tremaining: 1m 4s\n",
      "530:\tlearn: 0.2874440\ttotal: 1m 12s\tremaining: 1m 3s\n",
      "531:\tlearn: 0.2871503\ttotal: 1m 12s\tremaining: 1m 3s\n",
      "532:\tlearn: 0.2869041\ttotal: 1m 12s\tremaining: 1m 3s\n",
      "533:\tlearn: 0.2867428\ttotal: 1m 12s\tremaining: 1m 3s\n",
      "534:\tlearn: 0.2863949\ttotal: 1m 12s\tremaining: 1m 3s\n",
      "535:\tlearn: 0.2861299\ttotal: 1m 13s\tremaining: 1m 3s\n",
      "536:\tlearn: 0.2859760\ttotal: 1m 13s\tremaining: 1m 3s\n",
      "537:\tlearn: 0.2857932\ttotal: 1m 13s\tremaining: 1m 2s\n",
      "538:\tlearn: 0.2852366\ttotal: 1m 13s\tremaining: 1m 2s\n",
      "539:\tlearn: 0.2850329\ttotal: 1m 13s\tremaining: 1m 2s\n",
      "540:\tlearn: 0.2847849\ttotal: 1m 13s\tremaining: 1m 2s\n",
      "541:\tlearn: 0.2844781\ttotal: 1m 13s\tremaining: 1m 2s\n",
      "542:\tlearn: 0.2842428\ttotal: 1m 14s\tremaining: 1m 2s\n",
      "543:\tlearn: 0.2840456\ttotal: 1m 14s\tremaining: 1m 2s\n",
      "544:\tlearn: 0.2839068\ttotal: 1m 14s\tremaining: 1m 2s\n",
      "545:\tlearn: 0.2836574\ttotal: 1m 14s\tremaining: 1m 1s\n",
      "546:\tlearn: 0.2834022\ttotal: 1m 14s\tremaining: 1m 1s\n",
      "547:\tlearn: 0.2831577\ttotal: 1m 14s\tremaining: 1m 1s\n",
      "548:\tlearn: 0.2829424\ttotal: 1m 14s\tremaining: 1m 1s\n",
      "549:\tlearn: 0.2827385\ttotal: 1m 14s\tremaining: 1m 1s\n",
      "550:\tlearn: 0.2825774\ttotal: 1m 15s\tremaining: 1m 1s\n",
      "551:\tlearn: 0.2824051\ttotal: 1m 15s\tremaining: 1m 1s\n",
      "552:\tlearn: 0.2821237\ttotal: 1m 15s\tremaining: 1m\n",
      "553:\tlearn: 0.2818896\ttotal: 1m 15s\tremaining: 1m\n",
      "554:\tlearn: 0.2815895\ttotal: 1m 15s\tremaining: 1m\n",
      "555:\tlearn: 0.2813355\ttotal: 1m 15s\tremaining: 1m\n",
      "556:\tlearn: 0.2811468\ttotal: 1m 15s\tremaining: 1m\n",
      "557:\tlearn: 0.2808912\ttotal: 1m 16s\tremaining: 1m\n",
      "558:\tlearn: 0.2806170\ttotal: 1m 16s\tremaining: 1m\n",
      "559:\tlearn: 0.2803876\ttotal: 1m 16s\tremaining: 60s\n",
      "560:\tlearn: 0.2802005\ttotal: 1m 16s\tremaining: 59.9s\n",
      "561:\tlearn: 0.2800012\ttotal: 1m 16s\tremaining: 59.7s\n",
      "562:\tlearn: 0.2798332\ttotal: 1m 16s\tremaining: 59.6s\n",
      "563:\tlearn: 0.2795775\ttotal: 1m 16s\tremaining: 59.4s\n",
      "564:\tlearn: 0.2792829\ttotal: 1m 17s\tremaining: 59.3s\n",
      "565:\tlearn: 0.2788036\ttotal: 1m 17s\tremaining: 59.2s\n",
      "566:\tlearn: 0.2786519\ttotal: 1m 17s\tremaining: 59s\n",
      "567:\tlearn: 0.2785149\ttotal: 1m 17s\tremaining: 58.9s\n",
      "568:\tlearn: 0.2782454\ttotal: 1m 17s\tremaining: 58.8s\n",
      "569:\tlearn: 0.2780947\ttotal: 1m 17s\tremaining: 58.6s\n",
      "570:\tlearn: 0.2779545\ttotal: 1m 17s\tremaining: 58.5s\n",
      "571:\tlearn: 0.2777630\ttotal: 1m 17s\tremaining: 58.4s\n",
      "572:\tlearn: 0.2775864\ttotal: 1m 18s\tremaining: 58.2s\n",
      "573:\tlearn: 0.2774654\ttotal: 1m 18s\tremaining: 58.1s\n",
      "574:\tlearn: 0.2772733\ttotal: 1m 18s\tremaining: 58s\n",
      "575:\tlearn: 0.2770488\ttotal: 1m 18s\tremaining: 57.8s\n",
      "576:\tlearn: 0.2764440\ttotal: 1m 18s\tremaining: 57.7s\n",
      "577:\tlearn: 0.2761683\ttotal: 1m 18s\tremaining: 57.5s\n",
      "578:\tlearn: 0.2759174\ttotal: 1m 18s\tremaining: 57.4s\n",
      "579:\tlearn: 0.2756564\ttotal: 1m 19s\tremaining: 57.3s\n",
      "580:\tlearn: 0.2754326\ttotal: 1m 19s\tremaining: 57.1s\n",
      "581:\tlearn: 0.2751357\ttotal: 1m 19s\tremaining: 57s\n",
      "582:\tlearn: 0.2749094\ttotal: 1m 19s\tremaining: 56.9s\n",
      "583:\tlearn: 0.2747724\ttotal: 1m 19s\tremaining: 56.7s\n",
      "584:\tlearn: 0.2745351\ttotal: 1m 19s\tremaining: 56.6s\n",
      "585:\tlearn: 0.2742415\ttotal: 1m 19s\tremaining: 56.5s\n",
      "586:\tlearn: 0.2739696\ttotal: 1m 20s\tremaining: 56.3s\n",
      "587:\tlearn: 0.2737617\ttotal: 1m 20s\tremaining: 56.2s\n",
      "588:\tlearn: 0.2736391\ttotal: 1m 20s\tremaining: 56.1s\n",
      "589:\tlearn: 0.2733457\ttotal: 1m 20s\tremaining: 55.9s\n",
      "590:\tlearn: 0.2731592\ttotal: 1m 20s\tremaining: 55.8s\n",
      "591:\tlearn: 0.2729158\ttotal: 1m 20s\tremaining: 55.7s\n",
      "592:\tlearn: 0.2726054\ttotal: 1m 20s\tremaining: 55.5s\n",
      "593:\tlearn: 0.2723948\ttotal: 1m 21s\tremaining: 55.4s\n",
      "594:\tlearn: 0.2722582\ttotal: 1m 21s\tremaining: 55.3s\n",
      "595:\tlearn: 0.2719915\ttotal: 1m 21s\tremaining: 55.1s\n",
      "596:\tlearn: 0.2716586\ttotal: 1m 21s\tremaining: 55s\n",
      "597:\tlearn: 0.2713960\ttotal: 1m 21s\tremaining: 54.9s\n",
      "598:\tlearn: 0.2711399\ttotal: 1m 21s\tremaining: 54.7s\n",
      "599:\tlearn: 0.2709398\ttotal: 1m 21s\tremaining: 54.6s\n",
      "600:\tlearn: 0.2705732\ttotal: 1m 22s\tremaining: 54.5s\n",
      "601:\tlearn: 0.2703425\ttotal: 1m 22s\tremaining: 54.3s\n",
      "602:\tlearn: 0.2701507\ttotal: 1m 22s\tremaining: 54.2s\n",
      "603:\tlearn: 0.2699711\ttotal: 1m 22s\tremaining: 54s\n",
      "604:\tlearn: 0.2698586\ttotal: 1m 22s\tremaining: 53.9s\n",
      "605:\tlearn: 0.2695679\ttotal: 1m 22s\tremaining: 53.8s\n",
      "606:\tlearn: 0.2693861\ttotal: 1m 22s\tremaining: 53.6s\n",
      "607:\tlearn: 0.2691326\ttotal: 1m 22s\tremaining: 53.5s\n",
      "608:\tlearn: 0.2688902\ttotal: 1m 23s\tremaining: 53.4s\n",
      "609:\tlearn: 0.2687256\ttotal: 1m 23s\tremaining: 53.2s\n",
      "610:\tlearn: 0.2684575\ttotal: 1m 23s\tremaining: 53.1s\n",
      "611:\tlearn: 0.2682777\ttotal: 1m 23s\tremaining: 53s\n",
      "612:\tlearn: 0.2680237\ttotal: 1m 23s\tremaining: 52.8s\n",
      "613:\tlearn: 0.2678575\ttotal: 1m 23s\tremaining: 52.7s\n",
      "614:\tlearn: 0.2675681\ttotal: 1m 23s\tremaining: 52.6s\n",
      "615:\tlearn: 0.2673774\ttotal: 1m 24s\tremaining: 52.4s\n",
      "616:\tlearn: 0.2671934\ttotal: 1m 24s\tremaining: 52.3s\n",
      "617:\tlearn: 0.2668799\ttotal: 1m 24s\tremaining: 52.1s\n",
      "618:\tlearn: 0.2667024\ttotal: 1m 24s\tremaining: 52s\n",
      "619:\tlearn: 0.2663906\ttotal: 1m 24s\tremaining: 51.9s\n",
      "620:\tlearn: 0.2662726\ttotal: 1m 24s\tremaining: 51.7s\n",
      "621:\tlearn: 0.2660591\ttotal: 1m 24s\tremaining: 51.6s\n",
      "622:\tlearn: 0.2658573\ttotal: 1m 25s\tremaining: 51.5s\n",
      "623:\tlearn: 0.2657590\ttotal: 1m 25s\tremaining: 51.3s\n",
      "624:\tlearn: 0.2655643\ttotal: 1m 25s\tremaining: 51.2s\n",
      "625:\tlearn: 0.2653513\ttotal: 1m 25s\tremaining: 51.1s\n",
      "626:\tlearn: 0.2650381\ttotal: 1m 25s\tremaining: 50.9s\n",
      "627:\tlearn: 0.2649090\ttotal: 1m 25s\tremaining: 50.8s\n",
      "628:\tlearn: 0.2645966\ttotal: 1m 25s\tremaining: 50.7s\n",
      "629:\tlearn: 0.2644378\ttotal: 1m 26s\tremaining: 50.5s\n",
      "630:\tlearn: 0.2642212\ttotal: 1m 26s\tremaining: 50.4s\n",
      "631:\tlearn: 0.2640837\ttotal: 1m 26s\tremaining: 50.3s\n",
      "632:\tlearn: 0.2639029\ttotal: 1m 26s\tremaining: 50.1s\n",
      "633:\tlearn: 0.2637669\ttotal: 1m 26s\tremaining: 50s\n",
      "634:\tlearn: 0.2635652\ttotal: 1m 26s\tremaining: 49.8s\n",
      "635:\tlearn: 0.2633995\ttotal: 1m 26s\tremaining: 49.7s\n",
      "636:\tlearn: 0.2632398\ttotal: 1m 26s\tremaining: 49.6s\n",
      "637:\tlearn: 0.2630338\ttotal: 1m 27s\tremaining: 49.4s\n",
      "638:\tlearn: 0.2628059\ttotal: 1m 27s\tremaining: 49.3s\n",
      "639:\tlearn: 0.2625763\ttotal: 1m 27s\tremaining: 49.2s\n",
      "640:\tlearn: 0.2623857\ttotal: 1m 27s\tremaining: 49s\n",
      "641:\tlearn: 0.2621793\ttotal: 1m 27s\tremaining: 48.9s\n",
      "642:\tlearn: 0.2620163\ttotal: 1m 27s\tremaining: 48.7s\n",
      "643:\tlearn: 0.2617983\ttotal: 1m 27s\tremaining: 48.6s\n",
      "644:\tlearn: 0.2614682\ttotal: 1m 28s\tremaining: 48.5s\n",
      "645:\tlearn: 0.2613219\ttotal: 1m 28s\tremaining: 48.3s\n",
      "646:\tlearn: 0.2611381\ttotal: 1m 28s\tremaining: 48.2s\n",
      "647:\tlearn: 0.2608787\ttotal: 1m 28s\tremaining: 48.1s\n",
      "648:\tlearn: 0.2607158\ttotal: 1m 28s\tremaining: 47.9s\n",
      "649:\tlearn: 0.2604852\ttotal: 1m 28s\tremaining: 47.8s\n",
      "650:\tlearn: 0.2603441\ttotal: 1m 28s\tremaining: 47.7s\n",
      "651:\tlearn: 0.2602039\ttotal: 1m 29s\tremaining: 47.5s\n",
      "652:\tlearn: 0.2600755\ttotal: 1m 29s\tremaining: 47.4s\n",
      "653:\tlearn: 0.2598551\ttotal: 1m 29s\tremaining: 47.2s\n",
      "654:\tlearn: 0.2596873\ttotal: 1m 29s\tremaining: 47.1s\n",
      "655:\tlearn: 0.2594703\ttotal: 1m 29s\tremaining: 47s\n",
      "656:\tlearn: 0.2592563\ttotal: 1m 29s\tremaining: 46.8s\n",
      "657:\tlearn: 0.2590401\ttotal: 1m 29s\tremaining: 46.7s\n",
      "658:\tlearn: 0.2589167\ttotal: 1m 29s\tremaining: 46.6s\n",
      "659:\tlearn: 0.2586945\ttotal: 1m 30s\tremaining: 46.4s\n",
      "660:\tlearn: 0.2584552\ttotal: 1m 30s\tremaining: 46.3s\n",
      "661:\tlearn: 0.2575147\ttotal: 1m 30s\tremaining: 46.2s\n",
      "662:\tlearn: 0.2573129\ttotal: 1m 30s\tremaining: 46s\n",
      "663:\tlearn: 0.2570990\ttotal: 1m 30s\tremaining: 45.9s\n",
      "664:\tlearn: 0.2568936\ttotal: 1m 30s\tremaining: 45.7s\n",
      "665:\tlearn: 0.2567840\ttotal: 1m 30s\tremaining: 45.6s\n",
      "666:\tlearn: 0.2565021\ttotal: 1m 31s\tremaining: 45.5s\n",
      "667:\tlearn: 0.2563085\ttotal: 1m 31s\tremaining: 45.3s\n",
      "668:\tlearn: 0.2561418\ttotal: 1m 31s\tremaining: 45.2s\n",
      "669:\tlearn: 0.2559193\ttotal: 1m 31s\tremaining: 45.1s\n",
      "670:\tlearn: 0.2557640\ttotal: 1m 31s\tremaining: 44.9s\n",
      "671:\tlearn: 0.2555435\ttotal: 1m 31s\tremaining: 44.8s\n",
      "672:\tlearn: 0.2549214\ttotal: 1m 31s\tremaining: 44.7s\n",
      "673:\tlearn: 0.2547180\ttotal: 1m 32s\tremaining: 44.5s\n",
      "674:\tlearn: 0.2545938\ttotal: 1m 32s\tremaining: 44.4s\n",
      "675:\tlearn: 0.2543919\ttotal: 1m 32s\tremaining: 44.3s\n",
      "676:\tlearn: 0.2541928\ttotal: 1m 32s\tremaining: 44.1s\n",
      "677:\tlearn: 0.2540870\ttotal: 1m 32s\tremaining: 44s\n",
      "678:\tlearn: 0.2538538\ttotal: 1m 32s\tremaining: 43.9s\n",
      "679:\tlearn: 0.2536977\ttotal: 1m 33s\tremaining: 43.8s\n",
      "680:\tlearn: 0.2535320\ttotal: 1m 33s\tremaining: 43.6s\n",
      "681:\tlearn: 0.2532760\ttotal: 1m 33s\tremaining: 43.5s\n",
      "682:\tlearn: 0.2531233\ttotal: 1m 33s\tremaining: 43.4s\n",
      "683:\tlearn: 0.2529583\ttotal: 1m 33s\tremaining: 43.3s\n",
      "684:\tlearn: 0.2527812\ttotal: 1m 33s\tremaining: 43.2s\n",
      "685:\tlearn: 0.2526866\ttotal: 1m 34s\tremaining: 43s\n",
      "686:\tlearn: 0.2525582\ttotal: 1m 34s\tremaining: 42.9s\n",
      "687:\tlearn: 0.2523762\ttotal: 1m 34s\tremaining: 42.8s\n",
      "688:\tlearn: 0.2520408\ttotal: 1m 34s\tremaining: 42.7s\n",
      "689:\tlearn: 0.2519098\ttotal: 1m 34s\tremaining: 42.5s\n",
      "690:\tlearn: 0.2517257\ttotal: 1m 34s\tremaining: 42.4s\n",
      "691:\tlearn: 0.2515844\ttotal: 1m 35s\tremaining: 42.3s\n",
      "692:\tlearn: 0.2514123\ttotal: 1m 35s\tremaining: 42.2s\n",
      "693:\tlearn: 0.2512281\ttotal: 1m 35s\tremaining: 42s\n",
      "694:\tlearn: 0.2510431\ttotal: 1m 35s\tremaining: 41.9s\n",
      "695:\tlearn: 0.2508546\ttotal: 1m 35s\tremaining: 41.8s\n",
      "696:\tlearn: 0.2507098\ttotal: 1m 35s\tremaining: 41.6s\n",
      "697:\tlearn: 0.2505272\ttotal: 1m 35s\tremaining: 41.5s\n",
      "698:\tlearn: 0.2503755\ttotal: 1m 36s\tremaining: 41.4s\n",
      "699:\tlearn: 0.2501583\ttotal: 1m 36s\tremaining: 41.2s\n",
      "700:\tlearn: 0.2500271\ttotal: 1m 36s\tremaining: 41.1s\n",
      "701:\tlearn: 0.2499365\ttotal: 1m 36s\tremaining: 41s\n",
      "702:\tlearn: 0.2497192\ttotal: 1m 36s\tremaining: 40.8s\n",
      "703:\tlearn: 0.2495083\ttotal: 1m 36s\tremaining: 40.7s\n",
      "704:\tlearn: 0.2493547\ttotal: 1m 36s\tremaining: 40.5s\n",
      "705:\tlearn: 0.2491924\ttotal: 1m 37s\tremaining: 40.4s\n",
      "706:\tlearn: 0.2490301\ttotal: 1m 37s\tremaining: 40.3s\n",
      "707:\tlearn: 0.2488124\ttotal: 1m 37s\tremaining: 40.1s\n",
      "708:\tlearn: 0.2485554\ttotal: 1m 37s\tremaining: 40s\n",
      "709:\tlearn: 0.2484196\ttotal: 1m 37s\tremaining: 39.9s\n",
      "710:\tlearn: 0.2482659\ttotal: 1m 37s\tremaining: 39.7s\n",
      "711:\tlearn: 0.2480529\ttotal: 1m 37s\tremaining: 39.6s\n",
      "712:\tlearn: 0.2479332\ttotal: 1m 38s\tremaining: 39.5s\n",
      "713:\tlearn: 0.2478263\ttotal: 1m 38s\tremaining: 39.3s\n",
      "714:\tlearn: 0.2475257\ttotal: 1m 38s\tremaining: 39.2s\n",
      "715:\tlearn: 0.2472969\ttotal: 1m 38s\tremaining: 39s\n",
      "716:\tlearn: 0.2471004\ttotal: 1m 38s\tremaining: 38.9s\n",
      "717:\tlearn: 0.2468984\ttotal: 1m 38s\tremaining: 38.8s\n",
      "718:\tlearn: 0.2467022\ttotal: 1m 38s\tremaining: 38.6s\n",
      "719:\tlearn: 0.2464841\ttotal: 1m 38s\tremaining: 38.5s\n",
      "720:\tlearn: 0.2463272\ttotal: 1m 39s\tremaining: 38.4s\n",
      "721:\tlearn: 0.2462020\ttotal: 1m 39s\tremaining: 38.2s\n",
      "722:\tlearn: 0.2460245\ttotal: 1m 39s\tremaining: 38.1s\n",
      "723:\tlearn: 0.2458213\ttotal: 1m 39s\tremaining: 37.9s\n",
      "724:\tlearn: 0.2456429\ttotal: 1m 39s\tremaining: 37.8s\n",
      "725:\tlearn: 0.2454372\ttotal: 1m 39s\tremaining: 37.7s\n",
      "726:\tlearn: 0.2452702\ttotal: 1m 39s\tremaining: 37.5s\n",
      "727:\tlearn: 0.2450814\ttotal: 1m 40s\tremaining: 37.4s\n",
      "728:\tlearn: 0.2448589\ttotal: 1m 40s\tremaining: 37.2s\n",
      "729:\tlearn: 0.2446799\ttotal: 1m 40s\tremaining: 37.1s\n",
      "730:\tlearn: 0.2444961\ttotal: 1m 40s\tremaining: 37s\n",
      "731:\tlearn: 0.2442805\ttotal: 1m 40s\tremaining: 36.8s\n",
      "732:\tlearn: 0.2441023\ttotal: 1m 40s\tremaining: 36.7s\n",
      "733:\tlearn: 0.2439458\ttotal: 1m 40s\tremaining: 36.6s\n",
      "734:\tlearn: 0.2437657\ttotal: 1m 41s\tremaining: 36.4s\n",
      "735:\tlearn: 0.2436266\ttotal: 1m 41s\tremaining: 36.3s\n",
      "736:\tlearn: 0.2431688\ttotal: 1m 41s\tremaining: 36.2s\n",
      "737:\tlearn: 0.2429642\ttotal: 1m 41s\tremaining: 36s\n",
      "738:\tlearn: 0.2428445\ttotal: 1m 41s\tremaining: 35.9s\n",
      "739:\tlearn: 0.2422869\ttotal: 1m 41s\tremaining: 35.7s\n",
      "740:\tlearn: 0.2421590\ttotal: 1m 41s\tremaining: 35.6s\n",
      "741:\tlearn: 0.2419846\ttotal: 1m 42s\tremaining: 35.5s\n",
      "742:\tlearn: 0.2418270\ttotal: 1m 42s\tremaining: 35.3s\n",
      "743:\tlearn: 0.2416624\ttotal: 1m 42s\tremaining: 35.2s\n",
      "744:\tlearn: 0.2414629\ttotal: 1m 42s\tremaining: 35.1s\n",
      "745:\tlearn: 0.2412964\ttotal: 1m 42s\tremaining: 34.9s\n",
      "746:\tlearn: 0.2411318\ttotal: 1m 42s\tremaining: 34.8s\n",
      "747:\tlearn: 0.2408712\ttotal: 1m 42s\tremaining: 34.6s\n",
      "748:\tlearn: 0.2406894\ttotal: 1m 42s\tremaining: 34.5s\n",
      "749:\tlearn: 0.2405271\ttotal: 1m 43s\tremaining: 34.4s\n",
      "750:\tlearn: 0.2404107\ttotal: 1m 43s\tremaining: 34.2s\n",
      "751:\tlearn: 0.2402624\ttotal: 1m 43s\tremaining: 34.1s\n",
      "752:\tlearn: 0.2400720\ttotal: 1m 43s\tremaining: 34s\n",
      "753:\tlearn: 0.2399707\ttotal: 1m 43s\tremaining: 33.8s\n",
      "754:\tlearn: 0.2398115\ttotal: 1m 43s\tremaining: 33.7s\n",
      "755:\tlearn: 0.2396991\ttotal: 1m 43s\tremaining: 33.5s\n",
      "756:\tlearn: 0.2395815\ttotal: 1m 44s\tremaining: 33.4s\n",
      "757:\tlearn: 0.2393466\ttotal: 1m 44s\tremaining: 33.3s\n",
      "758:\tlearn: 0.2392480\ttotal: 1m 44s\tremaining: 33.1s\n",
      "759:\tlearn: 0.2391343\ttotal: 1m 44s\tremaining: 33s\n",
      "760:\tlearn: 0.2390160\ttotal: 1m 44s\tremaining: 32.9s\n",
      "761:\tlearn: 0.2387242\ttotal: 1m 44s\tremaining: 32.7s\n",
      "762:\tlearn: 0.2386196\ttotal: 1m 44s\tremaining: 32.6s\n",
      "763:\tlearn: 0.2385165\ttotal: 1m 45s\tremaining: 32.4s\n",
      "764:\tlearn: 0.2383569\ttotal: 1m 45s\tremaining: 32.3s\n",
      "765:\tlearn: 0.2381485\ttotal: 1m 45s\tremaining: 32.2s\n",
      "766:\tlearn: 0.2377538\ttotal: 1m 45s\tremaining: 32s\n",
      "767:\tlearn: 0.2375271\ttotal: 1m 45s\tremaining: 31.9s\n",
      "768:\tlearn: 0.2373893\ttotal: 1m 45s\tremaining: 31.8s\n",
      "769:\tlearn: 0.2372080\ttotal: 1m 45s\tremaining: 31.6s\n",
      "770:\tlearn: 0.2370523\ttotal: 1m 45s\tremaining: 31.5s\n",
      "771:\tlearn: 0.2369082\ttotal: 1m 46s\tremaining: 31.3s\n",
      "772:\tlearn: 0.2368145\ttotal: 1m 46s\tremaining: 31.2s\n",
      "773:\tlearn: 0.2366717\ttotal: 1m 46s\tremaining: 31.1s\n",
      "774:\tlearn: 0.2364444\ttotal: 1m 46s\tremaining: 30.9s\n",
      "775:\tlearn: 0.2362847\ttotal: 1m 46s\tremaining: 30.8s\n",
      "776:\tlearn: 0.2361315\ttotal: 1m 46s\tremaining: 30.7s\n",
      "777:\tlearn: 0.2358693\ttotal: 1m 46s\tremaining: 30.5s\n",
      "778:\tlearn: 0.2356868\ttotal: 1m 47s\tremaining: 30.4s\n",
      "779:\tlearn: 0.2355248\ttotal: 1m 47s\tremaining: 30.2s\n",
      "780:\tlearn: 0.2352749\ttotal: 1m 47s\tremaining: 30.1s\n",
      "781:\tlearn: 0.2351012\ttotal: 1m 47s\tremaining: 30s\n",
      "782:\tlearn: 0.2349523\ttotal: 1m 47s\tremaining: 29.8s\n",
      "783:\tlearn: 0.2348484\ttotal: 1m 47s\tremaining: 29.7s\n",
      "784:\tlearn: 0.2346795\ttotal: 1m 47s\tremaining: 29.6s\n",
      "785:\tlearn: 0.2345176\ttotal: 1m 48s\tremaining: 29.4s\n",
      "786:\tlearn: 0.2342940\ttotal: 1m 48s\tremaining: 29.3s\n",
      "787:\tlearn: 0.2341224\ttotal: 1m 48s\tremaining: 29.2s\n",
      "788:\tlearn: 0.2339692\ttotal: 1m 48s\tremaining: 29s\n",
      "789:\tlearn: 0.2338630\ttotal: 1m 48s\tremaining: 28.9s\n",
      "790:\tlearn: 0.2336253\ttotal: 1m 48s\tremaining: 28.7s\n",
      "791:\tlearn: 0.2335266\ttotal: 1m 48s\tremaining: 28.6s\n",
      "792:\tlearn: 0.2333131\ttotal: 1m 49s\tremaining: 28.5s\n",
      "793:\tlearn: 0.2331112\ttotal: 1m 49s\tremaining: 28.3s\n",
      "794:\tlearn: 0.2328976\ttotal: 1m 49s\tremaining: 28.2s\n",
      "795:\tlearn: 0.2327590\ttotal: 1m 49s\tremaining: 28s\n",
      "796:\tlearn: 0.2325983\ttotal: 1m 49s\tremaining: 27.9s\n",
      "797:\tlearn: 0.2324160\ttotal: 1m 49s\tremaining: 27.8s\n",
      "798:\tlearn: 0.2322447\ttotal: 1m 49s\tremaining: 27.6s\n",
      "799:\tlearn: 0.2320921\ttotal: 1m 49s\tremaining: 27.5s\n",
      "800:\tlearn: 0.2319824\ttotal: 1m 50s\tremaining: 27.4s\n",
      "801:\tlearn: 0.2316357\ttotal: 1m 50s\tremaining: 27.2s\n",
      "802:\tlearn: 0.2315159\ttotal: 1m 50s\tremaining: 27.1s\n",
      "803:\tlearn: 0.2313803\ttotal: 1m 50s\tremaining: 26.9s\n",
      "804:\tlearn: 0.2311685\ttotal: 1m 50s\tremaining: 26.8s\n",
      "805:\tlearn: 0.2310448\ttotal: 1m 50s\tremaining: 26.7s\n",
      "806:\tlearn: 0.2308828\ttotal: 1m 50s\tremaining: 26.5s\n",
      "807:\tlearn: 0.2307691\ttotal: 1m 51s\tremaining: 26.4s\n",
      "808:\tlearn: 0.2306090\ttotal: 1m 51s\tremaining: 26.3s\n",
      "809:\tlearn: 0.2304505\ttotal: 1m 51s\tremaining: 26.1s\n",
      "810:\tlearn: 0.2302464\ttotal: 1m 51s\tremaining: 26s\n",
      "811:\tlearn: 0.2301006\ttotal: 1m 51s\tremaining: 25.8s\n",
      "812:\tlearn: 0.2299549\ttotal: 1m 51s\tremaining: 25.7s\n",
      "813:\tlearn: 0.2298070\ttotal: 1m 51s\tremaining: 25.6s\n",
      "814:\tlearn: 0.2296323\ttotal: 1m 52s\tremaining: 25.4s\n",
      "815:\tlearn: 0.2294943\ttotal: 1m 52s\tremaining: 25.3s\n",
      "816:\tlearn: 0.2293682\ttotal: 1m 52s\tremaining: 25.2s\n",
      "817:\tlearn: 0.2292471\ttotal: 1m 52s\tremaining: 25s\n",
      "818:\tlearn: 0.2291032\ttotal: 1m 52s\tremaining: 24.9s\n",
      "819:\tlearn: 0.2290184\ttotal: 1m 52s\tremaining: 24.7s\n",
      "820:\tlearn: 0.2288482\ttotal: 1m 52s\tremaining: 24.6s\n",
      "821:\tlearn: 0.2286455\ttotal: 1m 52s\tremaining: 24.5s\n",
      "822:\tlearn: 0.2284833\ttotal: 1m 53s\tremaining: 24.3s\n",
      "823:\tlearn: 0.2282244\ttotal: 1m 53s\tremaining: 24.2s\n",
      "824:\tlearn: 0.2280436\ttotal: 1m 53s\tremaining: 24s\n",
      "825:\tlearn: 0.2279158\ttotal: 1m 53s\tremaining: 23.9s\n",
      "826:\tlearn: 0.2277979\ttotal: 1m 53s\tremaining: 23.8s\n",
      "827:\tlearn: 0.2276736\ttotal: 1m 53s\tremaining: 23.6s\n",
      "828:\tlearn: 0.2275670\ttotal: 1m 53s\tremaining: 23.5s\n",
      "829:\tlearn: 0.2273937\ttotal: 1m 54s\tremaining: 23.4s\n",
      "830:\tlearn: 0.2272902\ttotal: 1m 54s\tremaining: 23.2s\n",
      "831:\tlearn: 0.2271645\ttotal: 1m 54s\tremaining: 23.1s\n",
      "832:\tlearn: 0.2270405\ttotal: 1m 54s\tremaining: 22.9s\n",
      "833:\tlearn: 0.2268953\ttotal: 1m 54s\tremaining: 22.8s\n",
      "834:\tlearn: 0.2267684\ttotal: 1m 54s\tremaining: 22.7s\n",
      "835:\tlearn: 0.2265684\ttotal: 1m 54s\tremaining: 22.5s\n",
      "836:\tlearn: 0.2264006\ttotal: 1m 54s\tremaining: 22.4s\n",
      "837:\tlearn: 0.2262503\ttotal: 1m 55s\tremaining: 22.3s\n",
      "838:\tlearn: 0.2261065\ttotal: 1m 55s\tremaining: 22.1s\n",
      "839:\tlearn: 0.2259921\ttotal: 1m 55s\tremaining: 22s\n",
      "840:\tlearn: 0.2258375\ttotal: 1m 55s\tremaining: 21.8s\n",
      "841:\tlearn: 0.2256764\ttotal: 1m 55s\tremaining: 21.7s\n",
      "842:\tlearn: 0.2255600\ttotal: 1m 55s\tremaining: 21.6s\n",
      "843:\tlearn: 0.2254624\ttotal: 1m 55s\tremaining: 21.4s\n",
      "844:\tlearn: 0.2253523\ttotal: 1m 56s\tremaining: 21.3s\n",
      "845:\tlearn: 0.2251989\ttotal: 1m 56s\tremaining: 21.2s\n",
      "846:\tlearn: 0.2251002\ttotal: 1m 56s\tremaining: 21s\n",
      "847:\tlearn: 0.2249853\ttotal: 1m 56s\tremaining: 20.9s\n",
      "848:\tlearn: 0.2248400\ttotal: 1m 56s\tremaining: 20.7s\n",
      "849:\tlearn: 0.2246876\ttotal: 1m 56s\tremaining: 20.6s\n",
      "850:\tlearn: 0.2245405\ttotal: 1m 56s\tremaining: 20.5s\n",
      "851:\tlearn: 0.2244659\ttotal: 1m 57s\tremaining: 20.3s\n",
      "852:\tlearn: 0.2243350\ttotal: 1m 57s\tremaining: 20.2s\n",
      "853:\tlearn: 0.2242019\ttotal: 1m 57s\tremaining: 20.1s\n",
      "854:\tlearn: 0.2240672\ttotal: 1m 57s\tremaining: 19.9s\n",
      "855:\tlearn: 0.2238630\ttotal: 1m 57s\tremaining: 19.8s\n",
      "856:\tlearn: 0.2237800\ttotal: 1m 57s\tremaining: 19.7s\n",
      "857:\tlearn: 0.2236737\ttotal: 1m 57s\tremaining: 19.5s\n",
      "858:\tlearn: 0.2235040\ttotal: 1m 58s\tremaining: 19.4s\n",
      "859:\tlearn: 0.2232392\ttotal: 1m 58s\tremaining: 19.2s\n",
      "860:\tlearn: 0.2230685\ttotal: 1m 58s\tremaining: 19.1s\n",
      "861:\tlearn: 0.2229286\ttotal: 1m 58s\tremaining: 19s\n",
      "862:\tlearn: 0.2227548\ttotal: 1m 58s\tremaining: 18.8s\n",
      "863:\tlearn: 0.2226583\ttotal: 1m 58s\tremaining: 18.7s\n",
      "864:\tlearn: 0.2225558\ttotal: 1m 58s\tremaining: 18.6s\n",
      "865:\tlearn: 0.2224371\ttotal: 1m 59s\tremaining: 18.4s\n",
      "866:\tlearn: 0.2219310\ttotal: 1m 59s\tremaining: 18.3s\n",
      "867:\tlearn: 0.2217701\ttotal: 1m 59s\tremaining: 18.1s\n",
      "868:\tlearn: 0.2215995\ttotal: 1m 59s\tremaining: 18s\n",
      "869:\tlearn: 0.2214640\ttotal: 1m 59s\tremaining: 17.9s\n",
      "870:\tlearn: 0.2212819\ttotal: 1m 59s\tremaining: 17.7s\n",
      "871:\tlearn: 0.2211788\ttotal: 1m 59s\tremaining: 17.6s\n",
      "872:\tlearn: 0.2210255\ttotal: 1m 59s\tremaining: 17.5s\n",
      "873:\tlearn: 0.2208550\ttotal: 2m\tremaining: 17.3s\n",
      "874:\tlearn: 0.2207300\ttotal: 2m\tremaining: 17.2s\n",
      "875:\tlearn: 0.2206308\ttotal: 2m\tremaining: 17s\n",
      "876:\tlearn: 0.2205357\ttotal: 2m\tremaining: 16.9s\n",
      "877:\tlearn: 0.2204084\ttotal: 2m\tremaining: 16.8s\n",
      "878:\tlearn: 0.2202663\ttotal: 2m\tremaining: 16.6s\n",
      "879:\tlearn: 0.2201909\ttotal: 2m\tremaining: 16.5s\n",
      "880:\tlearn: 0.2200587\ttotal: 2m 1s\tremaining: 16.4s\n",
      "881:\tlearn: 0.2198709\ttotal: 2m 1s\tremaining: 16.2s\n",
      "882:\tlearn: 0.2197626\ttotal: 2m 1s\tremaining: 16.1s\n",
      "883:\tlearn: 0.2195353\ttotal: 2m 1s\tremaining: 15.9s\n",
      "884:\tlearn: 0.2194370\ttotal: 2m 1s\tremaining: 15.8s\n",
      "885:\tlearn: 0.2193080\ttotal: 2m 1s\tremaining: 15.7s\n",
      "886:\tlearn: 0.2191680\ttotal: 2m 1s\tremaining: 15.5s\n",
      "887:\tlearn: 0.2190140\ttotal: 2m 2s\tremaining: 15.4s\n",
      "888:\tlearn: 0.2188906\ttotal: 2m 2s\tremaining: 15.3s\n",
      "889:\tlearn: 0.2187583\ttotal: 2m 2s\tremaining: 15.1s\n",
      "890:\tlearn: 0.2186314\ttotal: 2m 2s\tremaining: 15s\n",
      "891:\tlearn: 0.2184752\ttotal: 2m 2s\tremaining: 14.8s\n",
      "892:\tlearn: 0.2183506\ttotal: 2m 2s\tremaining: 14.7s\n",
      "893:\tlearn: 0.2182784\ttotal: 2m 2s\tremaining: 14.6s\n",
      "894:\tlearn: 0.2181358\ttotal: 2m 2s\tremaining: 14.4s\n",
      "895:\tlearn: 0.2180052\ttotal: 2m 3s\tremaining: 14.3s\n",
      "896:\tlearn: 0.2178667\ttotal: 2m 3s\tremaining: 14.1s\n",
      "897:\tlearn: 0.2177824\ttotal: 2m 3s\tremaining: 14s\n",
      "898:\tlearn: 0.2176766\ttotal: 2m 3s\tremaining: 13.9s\n",
      "899:\tlearn: 0.2175249\ttotal: 2m 3s\tremaining: 13.7s\n",
      "900:\tlearn: 0.2173800\ttotal: 2m 3s\tremaining: 13.6s\n",
      "901:\tlearn: 0.2172669\ttotal: 2m 3s\tremaining: 13.4s\n",
      "902:\tlearn: 0.2171265\ttotal: 2m 3s\tremaining: 13.3s\n",
      "903:\tlearn: 0.2169951\ttotal: 2m 4s\tremaining: 13.2s\n",
      "904:\tlearn: 0.2168347\ttotal: 2m 4s\tremaining: 13s\n",
      "905:\tlearn: 0.2167421\ttotal: 2m 4s\tremaining: 12.9s\n",
      "906:\tlearn: 0.2166686\ttotal: 2m 4s\tremaining: 12.8s\n",
      "907:\tlearn: 0.2165088\ttotal: 2m 4s\tremaining: 12.6s\n",
      "908:\tlearn: 0.2163788\ttotal: 2m 4s\tremaining: 12.5s\n",
      "909:\tlearn: 0.2162860\ttotal: 2m 4s\tremaining: 12.3s\n",
      "910:\tlearn: 0.2161398\ttotal: 2m 4s\tremaining: 12.2s\n",
      "911:\tlearn: 0.2159937\ttotal: 2m 5s\tremaining: 12.1s\n",
      "912:\tlearn: 0.2157410\ttotal: 2m 5s\tremaining: 11.9s\n",
      "913:\tlearn: 0.2156285\ttotal: 2m 5s\tremaining: 11.8s\n",
      "914:\tlearn: 0.2155104\ttotal: 2m 5s\tremaining: 11.7s\n",
      "915:\tlearn: 0.2154403\ttotal: 2m 5s\tremaining: 11.5s\n",
      "916:\tlearn: 0.2153294\ttotal: 2m 5s\tremaining: 11.4s\n",
      "917:\tlearn: 0.2151488\ttotal: 2m 5s\tremaining: 11.2s\n",
      "918:\tlearn: 0.2150605\ttotal: 2m 5s\tremaining: 11.1s\n",
      "919:\tlearn: 0.2149182\ttotal: 2m 6s\tremaining: 11s\n",
      "920:\tlearn: 0.2148249\ttotal: 2m 6s\tremaining: 10.8s\n",
      "921:\tlearn: 0.2147129\ttotal: 2m 6s\tremaining: 10.7s\n",
      "922:\tlearn: 0.2145830\ttotal: 2m 6s\tremaining: 10.5s\n",
      "923:\tlearn: 0.2145232\ttotal: 2m 6s\tremaining: 10.4s\n",
      "924:\tlearn: 0.2144090\ttotal: 2m 6s\tremaining: 10.3s\n",
      "925:\tlearn: 0.2143107\ttotal: 2m 6s\tremaining: 10.1s\n",
      "926:\tlearn: 0.2141588\ttotal: 2m 6s\tremaining: 10s\n",
      "927:\tlearn: 0.2140710\ttotal: 2m 7s\tremaining: 9.86s\n",
      "928:\tlearn: 0.2139444\ttotal: 2m 7s\tremaining: 9.72s\n",
      "929:\tlearn: 0.2138072\ttotal: 2m 7s\tremaining: 9.58s\n",
      "930:\tlearn: 0.2136626\ttotal: 2m 7s\tremaining: 9.45s\n",
      "931:\tlearn: 0.2134818\ttotal: 2m 7s\tremaining: 9.31s\n",
      "932:\tlearn: 0.2130736\ttotal: 2m 7s\tremaining: 9.17s\n",
      "933:\tlearn: 0.2129297\ttotal: 2m 7s\tremaining: 9.03s\n",
      "934:\tlearn: 0.2128318\ttotal: 2m 7s\tremaining: 8.9s\n",
      "935:\tlearn: 0.2127651\ttotal: 2m 8s\tremaining: 8.76s\n",
      "936:\tlearn: 0.2126517\ttotal: 2m 8s\tremaining: 8.62s\n",
      "937:\tlearn: 0.2124594\ttotal: 2m 8s\tremaining: 8.48s\n",
      "938:\tlearn: 0.2123594\ttotal: 2m 8s\tremaining: 8.35s\n",
      "939:\tlearn: 0.2123008\ttotal: 2m 8s\tremaining: 8.21s\n",
      "940:\tlearn: 0.2121944\ttotal: 2m 8s\tremaining: 8.07s\n",
      "941:\tlearn: 0.2121217\ttotal: 2m 8s\tremaining: 7.93s\n",
      "942:\tlearn: 0.2120121\ttotal: 2m 8s\tremaining: 7.79s\n",
      "943:\tlearn: 0.2118635\ttotal: 2m 9s\tremaining: 7.66s\n",
      "944:\tlearn: 0.2117133\ttotal: 2m 9s\tremaining: 7.52s\n",
      "945:\tlearn: 0.2115317\ttotal: 2m 9s\tremaining: 7.38s\n",
      "946:\tlearn: 0.2114135\ttotal: 2m 9s\tremaining: 7.25s\n",
      "947:\tlearn: 0.2113076\ttotal: 2m 9s\tremaining: 7.11s\n",
      "948:\tlearn: 0.2112065\ttotal: 2m 9s\tremaining: 6.97s\n",
      "949:\tlearn: 0.2110976\ttotal: 2m 9s\tremaining: 6.83s\n",
      "950:\tlearn: 0.2109755\ttotal: 2m 9s\tremaining: 6.7s\n",
      "951:\tlearn: 0.2108812\ttotal: 2m 10s\tremaining: 6.56s\n",
      "952:\tlearn: 0.2107412\ttotal: 2m 10s\tremaining: 6.42s\n",
      "953:\tlearn: 0.2106636\ttotal: 2m 10s\tremaining: 6.28s\n",
      "954:\tlearn: 0.2105437\ttotal: 2m 10s\tremaining: 6.14s\n",
      "955:\tlearn: 0.2104157\ttotal: 2m 10s\tremaining: 6.01s\n",
      "956:\tlearn: 0.2103096\ttotal: 2m 10s\tremaining: 5.87s\n",
      "957:\tlearn: 0.2102235\ttotal: 2m 10s\tremaining: 5.73s\n",
      "958:\tlearn: 0.2101107\ttotal: 2m 10s\tremaining: 5.6s\n",
      "959:\tlearn: 0.2100023\ttotal: 2m 11s\tremaining: 5.46s\n",
      "960:\tlearn: 0.2098926\ttotal: 2m 11s\tremaining: 5.32s\n",
      "961:\tlearn: 0.2097930\ttotal: 2m 11s\tremaining: 5.18s\n",
      "962:\tlearn: 0.2096577\ttotal: 2m 11s\tremaining: 5.05s\n",
      "963:\tlearn: 0.2095901\ttotal: 2m 11s\tremaining: 4.91s\n",
      "964:\tlearn: 0.2094164\ttotal: 2m 11s\tremaining: 4.77s\n",
      "965:\tlearn: 0.2093175\ttotal: 2m 11s\tremaining: 4.64s\n",
      "966:\tlearn: 0.2092162\ttotal: 2m 11s\tremaining: 4.5s\n",
      "967:\tlearn: 0.2090709\ttotal: 2m 11s\tremaining: 4.36s\n",
      "968:\tlearn: 0.2089486\ttotal: 2m 12s\tremaining: 4.23s\n",
      "969:\tlearn: 0.2088016\ttotal: 2m 12s\tremaining: 4.09s\n",
      "970:\tlearn: 0.2086952\ttotal: 2m 12s\tremaining: 3.95s\n",
      "971:\tlearn: 0.2086160\ttotal: 2m 12s\tremaining: 3.82s\n",
      "972:\tlearn: 0.2084980\ttotal: 2m 12s\tremaining: 3.68s\n",
      "973:\tlearn: 0.2084360\ttotal: 2m 12s\tremaining: 3.54s\n",
      "974:\tlearn: 0.2083079\ttotal: 2m 12s\tremaining: 3.41s\n",
      "975:\tlearn: 0.2080637\ttotal: 2m 12s\tremaining: 3.27s\n",
      "976:\tlearn: 0.2079264\ttotal: 2m 13s\tremaining: 3.13s\n",
      "977:\tlearn: 0.2078372\ttotal: 2m 13s\tremaining: 3s\n",
      "978:\tlearn: 0.2076852\ttotal: 2m 13s\tremaining: 2.86s\n",
      "979:\tlearn: 0.2075798\ttotal: 2m 13s\tremaining: 2.72s\n",
      "980:\tlearn: 0.2074732\ttotal: 2m 13s\tremaining: 2.59s\n",
      "981:\tlearn: 0.2073392\ttotal: 2m 13s\tremaining: 2.45s\n",
      "982:\tlearn: 0.2072160\ttotal: 2m 13s\tremaining: 2.31s\n",
      "983:\tlearn: 0.2071067\ttotal: 2m 14s\tremaining: 2.18s\n",
      "984:\tlearn: 0.2070163\ttotal: 2m 14s\tremaining: 2.04s\n",
      "985:\tlearn: 0.2069343\ttotal: 2m 14s\tremaining: 1.91s\n",
      "986:\tlearn: 0.2068073\ttotal: 2m 14s\tremaining: 1.77s\n",
      "987:\tlearn: 0.2066532\ttotal: 2m 14s\tremaining: 1.63s\n",
      "988:\tlearn: 0.2064478\ttotal: 2m 14s\tremaining: 1.5s\n",
      "989:\tlearn: 0.2062995\ttotal: 2m 14s\tremaining: 1.36s\n",
      "990:\tlearn: 0.2061559\ttotal: 2m 14s\tremaining: 1.23s\n",
      "991:\tlearn: 0.2060322\ttotal: 2m 15s\tremaining: 1.09s\n",
      "992:\tlearn: 0.2059294\ttotal: 2m 15s\tremaining: 953ms\n",
      "993:\tlearn: 0.2058182\ttotal: 2m 15s\tremaining: 816ms\n",
      "994:\tlearn: 0.2056752\ttotal: 2m 15s\tremaining: 680ms\n",
      "995:\tlearn: 0.2055867\ttotal: 2m 15s\tremaining: 544ms\n",
      "996:\tlearn: 0.2054819\ttotal: 2m 15s\tremaining: 408ms\n",
      "997:\tlearn: 0.2053899\ttotal: 2m 15s\tremaining: 272ms\n",
      "998:\tlearn: 0.2053223\ttotal: 2m 15s\tremaining: 136ms\n",
      "999:\tlearn: 0.2052234\ttotal: 2m 16s\tremaining: 0us\n"
     ]
    },
    {
     "data": {
      "text/plain": [
       "<catboost.core.CatBoostClassifier at 0x572ec40>"
      ]
     },
     "execution_count": 39,
     "metadata": {},
     "output_type": "execute_result"
    }
   ],
   "source": [
    "cbc = CatBoostClassifier()\n",
    "cbc.fit(x_train,y_train)"
   ]
  },
  {
   "cell_type": "code",
   "execution_count": 40,
   "metadata": {
    "execution": {
     "iopub.execute_input": "2022-04-27T08:39:27.064612Z",
     "iopub.status.busy": "2022-04-27T08:39:27.064328Z",
     "iopub.status.idle": "2022-04-27T08:39:27.126004Z",
     "shell.execute_reply": "2022-04-27T08:39:27.125157Z",
     "shell.execute_reply.started": "2022-04-27T08:39:27.064582Z"
    }
   },
   "outputs": [
    {
     "data": {
      "text/plain": [
       "0.9213064561133609"
      ]
     },
     "execution_count": 40,
     "metadata": {},
     "output_type": "execute_result"
    }
   ],
   "source": [
    "acc = accuracy_score(y_test,y_pred)\n",
    "acc"
   ]
  },
  {
   "cell_type": "code",
   "execution_count": null,
   "metadata": {},
   "outputs": [],
   "source": []
  }
 ],
 "metadata": {
  "kernelspec": {
   "display_name": "Python 3",
   "language": "python",
   "name": "python3"
  },
  "language_info": {
   "codemirror_mode": {
    "name": "ipython",
    "version": 3
   },
   "file_extension": ".py",
   "mimetype": "text/x-python",
   "name": "python",
   "nbconvert_exporter": "python",
   "pygments_lexer": "ipython3",
   "version": "3.8.8"
  }
 },
 "nbformat": 4,
 "nbformat_minor": 4
}
